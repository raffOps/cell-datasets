{
 "cells": [
  {
   "cell_type": "code",
   "execution_count": 2,
   "metadata": {
    "ExecuteTime": {
     "end_time": "2020-12-17T19:58:07.648527Z",
     "start_time": "2020-12-17T19:58:07.644538Z"
    }
   },
   "outputs": [],
   "source": [
    "import seaborn as sns\n",
    "from matplotlib import pyplot as plt\n",
    "import os\n",
    "import pandas as pd\n",
    "from PIL import Image"
   ]
  },
  {
   "cell_type": "code",
   "execution_count": 3,
   "metadata": {
    "ExecuteTime": {
     "end_time": "2020-12-17T19:58:09.217131Z",
     "start_time": "2020-12-17T19:58:09.118880Z"
    }
   },
   "outputs": [
    {
     "data": {
      "text/html": [
       "<div>\n",
       "<style scoped>\n",
       "    .dataframe tbody tr th:only-of-type {\n",
       "        vertical-align: middle;\n",
       "    }\n",
       "\n",
       "    .dataframe tbody tr th {\n",
       "        vertical-align: top;\n",
       "    }\n",
       "\n",
       "    .dataframe thead th {\n",
       "        text-align: right;\n",
       "    }\n",
       "</style>\n",
       "<table border=\"1\" class=\"dataframe\">\n",
       "  <thead>\n",
       "    <tr style=\"text-align: right;\">\n",
       "      <th></th>\n",
       "      <th>filename</th>\n",
       "      <th>label</th>\n",
       "    </tr>\n",
       "  </thead>\n",
       "  <tbody>\n",
       "    <tr>\n",
       "      <th>0</th>\n",
       "      <td>DIESTRO_D001.jpg_0.jpg</td>\n",
       "      <td>DIESTRO</td>\n",
       "    </tr>\n",
       "    <tr>\n",
       "      <th>1</th>\n",
       "      <td>DIESTRO_D001.jpg_1.jpg</td>\n",
       "      <td>DIESTRO</td>\n",
       "    </tr>\n",
       "    <tr>\n",
       "      <th>2</th>\n",
       "      <td>DIESTRO_D001.jpg_2.jpg</td>\n",
       "      <td>DIESTRO</td>\n",
       "    </tr>\n",
       "    <tr>\n",
       "      <th>3</th>\n",
       "      <td>DIESTRO_D001.jpg_3.jpg</td>\n",
       "      <td>DIESTRO</td>\n",
       "    </tr>\n",
       "    <tr>\n",
       "      <th>4</th>\n",
       "      <td>DIESTRO_D002.jpg_0.jpg</td>\n",
       "      <td>DIESTRO</td>\n",
       "    </tr>\n",
       "    <tr>\n",
       "      <th>...</th>\n",
       "      <td>...</td>\n",
       "      <td>...</td>\n",
       "    </tr>\n",
       "    <tr>\n",
       "      <th>1595</th>\n",
       "      <td>PROESTRO_P099.jpg_3.jpg</td>\n",
       "      <td>PROESTRO</td>\n",
       "    </tr>\n",
       "    <tr>\n",
       "      <th>1596</th>\n",
       "      <td>PROESTRO_P100.jpg_0.jpg</td>\n",
       "      <td>PROESTRO</td>\n",
       "    </tr>\n",
       "    <tr>\n",
       "      <th>1597</th>\n",
       "      <td>PROESTRO_P100.jpg_1.jpg</td>\n",
       "      <td>PROESTRO</td>\n",
       "    </tr>\n",
       "    <tr>\n",
       "      <th>1598</th>\n",
       "      <td>PROESTRO_P100.jpg_2.jpg</td>\n",
       "      <td>PROESTRO</td>\n",
       "    </tr>\n",
       "    <tr>\n",
       "      <th>1599</th>\n",
       "      <td>PROESTRO_P100.jpg_3.jpg</td>\n",
       "      <td>PROESTRO</td>\n",
       "    </tr>\n",
       "  </tbody>\n",
       "</table>\n",
       "<p>1600 rows × 2 columns</p>\n",
       "</div>"
      ],
      "text/plain": [
       "                     filename     label\n",
       "0      DIESTRO_D001.jpg_0.jpg   DIESTRO\n",
       "1      DIESTRO_D001.jpg_1.jpg   DIESTRO\n",
       "2      DIESTRO_D001.jpg_2.jpg   DIESTRO\n",
       "3      DIESTRO_D001.jpg_3.jpg   DIESTRO\n",
       "4      DIESTRO_D002.jpg_0.jpg   DIESTRO\n",
       "...                       ...       ...\n",
       "1595  PROESTRO_P099.jpg_3.jpg  PROESTRO\n",
       "1596  PROESTRO_P100.jpg_0.jpg  PROESTRO\n",
       "1597  PROESTRO_P100.jpg_1.jpg  PROESTRO\n",
       "1598  PROESTRO_P100.jpg_2.jpg  PROESTRO\n",
       "1599  PROESTRO_P100.jpg_3.jpg  PROESTRO\n",
       "\n",
       "[1600 rows x 2 columns]"
      ]
     },
     "execution_count": 3,
     "metadata": {},
     "output_type": "execute_result"
    }
   ],
   "source": [
    "df = pd.read_csv(os.path.join(\"dataset\", \"test.csv\"), index_col=0)\n",
    "df"
   ]
  },
  {
   "cell_type": "code",
   "execution_count": 4,
   "metadata": {
    "ExecuteTime": {
     "end_time": "2020-12-17T19:58:10.158417Z",
     "start_time": "2020-12-17T19:58:10.108161Z"
    }
   },
   "outputs": [
    {
     "data": {
      "text/html": [
       "<div>\n",
       "<style scoped>\n",
       "    .dataframe tbody tr th:only-of-type {\n",
       "        vertical-align: middle;\n",
       "    }\n",
       "\n",
       "    .dataframe tbody tr th {\n",
       "        vertical-align: top;\n",
       "    }\n",
       "\n",
       "    .dataframe thead th {\n",
       "        text-align: right;\n",
       "    }\n",
       "</style>\n",
       "<table border=\"1\" class=\"dataframe\">\n",
       "  <thead>\n",
       "    <tr style=\"text-align: right;\">\n",
       "      <th></th>\n",
       "      <th>filename</th>\n",
       "      <th>label</th>\n",
       "      <th>predict</th>\n",
       "    </tr>\n",
       "  </thead>\n",
       "  <tbody>\n",
       "    <tr>\n",
       "      <th>2</th>\n",
       "      <td>DIESTRO_D001.jpg_2.jpg</td>\n",
       "      <td>DIESTRO</td>\n",
       "      <td>PROESTRO</td>\n",
       "    </tr>\n",
       "    <tr>\n",
       "      <th>9</th>\n",
       "      <td>DIESTRO_D003.jpg_1.jpg</td>\n",
       "      <td>DIESTRO</td>\n",
       "      <td>PROESTRO</td>\n",
       "    </tr>\n",
       "    <tr>\n",
       "      <th>10</th>\n",
       "      <td>DIESTRO_D003.jpg_2.jpg</td>\n",
       "      <td>DIESTRO</td>\n",
       "      <td>PROESTRO</td>\n",
       "    </tr>\n",
       "    <tr>\n",
       "      <th>15</th>\n",
       "      <td>DIESTRO_D004.jpg_3.jpg</td>\n",
       "      <td>DIESTRO</td>\n",
       "      <td>ESTRO</td>\n",
       "    </tr>\n",
       "    <tr>\n",
       "      <th>35</th>\n",
       "      <td>DIESTRO_D009.jpg_3.jpg</td>\n",
       "      <td>DIESTRO</td>\n",
       "      <td>METAESTRO</td>\n",
       "    </tr>\n",
       "    <tr>\n",
       "      <th>...</th>\n",
       "      <td>...</td>\n",
       "      <td>...</td>\n",
       "      <td>...</td>\n",
       "    </tr>\n",
       "    <tr>\n",
       "      <th>1595</th>\n",
       "      <td>PROESTRO_P099.jpg_3.jpg</td>\n",
       "      <td>PROESTRO</td>\n",
       "      <td>ESTRO</td>\n",
       "    </tr>\n",
       "    <tr>\n",
       "      <th>1596</th>\n",
       "      <td>PROESTRO_P100.jpg_0.jpg</td>\n",
       "      <td>PROESTRO</td>\n",
       "      <td>ESTRO</td>\n",
       "    </tr>\n",
       "    <tr>\n",
       "      <th>1597</th>\n",
       "      <td>PROESTRO_P100.jpg_1.jpg</td>\n",
       "      <td>PROESTRO</td>\n",
       "      <td>ESTRO</td>\n",
       "    </tr>\n",
       "    <tr>\n",
       "      <th>1598</th>\n",
       "      <td>PROESTRO_P100.jpg_2.jpg</td>\n",
       "      <td>PROESTRO</td>\n",
       "      <td>ESTRO</td>\n",
       "    </tr>\n",
       "    <tr>\n",
       "      <th>1599</th>\n",
       "      <td>PROESTRO_P100.jpg_3.jpg</td>\n",
       "      <td>PROESTRO</td>\n",
       "      <td>ESTRO</td>\n",
       "    </tr>\n",
       "  </tbody>\n",
       "</table>\n",
       "<p>321 rows × 3 columns</p>\n",
       "</div>"
      ],
      "text/plain": [
       "                     filename     label    predict\n",
       "2      DIESTRO_D001.jpg_2.jpg   DIESTRO   PROESTRO\n",
       "9      DIESTRO_D003.jpg_1.jpg   DIESTRO   PROESTRO\n",
       "10     DIESTRO_D003.jpg_2.jpg   DIESTRO   PROESTRO\n",
       "15     DIESTRO_D004.jpg_3.jpg   DIESTRO      ESTRO\n",
       "35     DIESTRO_D009.jpg_3.jpg   DIESTRO  METAESTRO\n",
       "...                       ...       ...        ...\n",
       "1595  PROESTRO_P099.jpg_3.jpg  PROESTRO      ESTRO\n",
       "1596  PROESTRO_P100.jpg_0.jpg  PROESTRO      ESTRO\n",
       "1597  PROESTRO_P100.jpg_1.jpg  PROESTRO      ESTRO\n",
       "1598  PROESTRO_P100.jpg_2.jpg  PROESTRO      ESTRO\n",
       "1599  PROESTRO_P100.jpg_3.jpg  PROESTRO      ESTRO\n",
       "\n",
       "[321 rows x 3 columns]"
      ]
     },
     "execution_count": 4,
     "metadata": {},
     "output_type": "execute_result"
    }
   ],
   "source": [
    "wrongs = pd.read_csv(os.path.join(\"dataset\", \"wrongs_predictions.csv\"), index_col=0)\n",
    "wrongs"
   ]
  },
  {
   "cell_type": "code",
   "execution_count": 5,
   "metadata": {
    "ExecuteTime": {
     "end_time": "2020-12-17T19:58:11.018146Z",
     "start_time": "2020-12-17T19:58:11.013159Z"
    }
   },
   "outputs": [],
   "source": [
    "labels = ['DIESTRO', 'ESTRO', 'METAESTRO', 'PROESTRO']\n",
    "\n",
    "test_image_path = os.path.join(\"dataset\", \"test\")\n",
    "wrong_image_path =  os.path.join(\"dataset\", \"wrongs_predictions\")"
   ]
  },
  {
   "cell_type": "code",
   "execution_count": 9,
   "metadata": {
    "ExecuteTime": {
     "end_time": "2020-12-17T20:01:21.693866Z",
     "start_time": "2020-12-17T20:01:12.219528Z"
    }
   },
   "outputs": [
    {
     "data": {
      "text/plain": [
       "<Figure size 432x288 with 0 Axes>"
      ]
     },
     "metadata": {},
     "output_type": "display_data"
    },
    {
     "data": {
      "text/plain": [
       "<Figure size 432x288 with 0 Axes>"
      ]
     },
     "metadata": {},
     "output_type": "display_data"
    },
    {
     "data": {
      "text/plain": [
       "<Figure size 432x288 with 0 Axes>"
      ]
     },
     "metadata": {},
     "output_type": "display_data"
    },
    {
     "data": {
      "text/plain": [
       "<Figure size 432x288 with 0 Axes>"
      ]
     },
     "metadata": {},
     "output_type": "display_data"
    }
   ],
   "source": [
    "for label in labels:\n",
    "    amostra = df[df.label == label].sample(16).filename.values\n",
    "    plt.figure()\n",
    "    f, axarr = plt.subplots(4,4, figsize=(40, 40));\n",
    "    f.suptitle(label, fontsize=50)\n",
    "    for index, (row, column) in enumerate([(row, column) for row in range(4) for column in range(4)]):\n",
    "            axarr[row][column].imshow(Image.open(os.path.join(test_image_path, amostra[index])), cmap=\"gray\");\n",
    "    f.savefig(f\"sample_{label}.png\")\n",
    "    plt.close()"
   ]
  },
  {
   "cell_type": "code",
   "execution_count": 10,
   "metadata": {
    "ExecuteTime": {
     "end_time": "2020-12-17T20:01:48.815320Z",
     "start_time": "2020-12-17T20:01:48.803352Z"
    }
   },
   "outputs": [
    {
     "data": {
      "text/html": [
       "<div>\n",
       "<style scoped>\n",
       "    .dataframe tbody tr th:only-of-type {\n",
       "        vertical-align: middle;\n",
       "    }\n",
       "\n",
       "    .dataframe tbody tr th {\n",
       "        vertical-align: top;\n",
       "    }\n",
       "\n",
       "    .dataframe thead th {\n",
       "        text-align: right;\n",
       "    }\n",
       "</style>\n",
       "<table border=\"1\" class=\"dataframe\">\n",
       "  <thead>\n",
       "    <tr style=\"text-align: right;\">\n",
       "      <th></th>\n",
       "      <th></th>\n",
       "      <th>filename</th>\n",
       "    </tr>\n",
       "    <tr>\n",
       "      <th>label</th>\n",
       "      <th>predict</th>\n",
       "      <th></th>\n",
       "    </tr>\n",
       "  </thead>\n",
       "  <tbody>\n",
       "    <tr>\n",
       "      <th rowspan=\"3\" valign=\"top\">DIESTRO</th>\n",
       "      <th>ESTRO</th>\n",
       "      <td>19</td>\n",
       "    </tr>\n",
       "    <tr>\n",
       "      <th>METAESTRO</th>\n",
       "      <td>28</td>\n",
       "    </tr>\n",
       "    <tr>\n",
       "      <th>PROESTRO</th>\n",
       "      <td>5</td>\n",
       "    </tr>\n",
       "    <tr>\n",
       "      <th rowspan=\"2\" valign=\"top\">ESTRO</th>\n",
       "      <th>METAESTRO</th>\n",
       "      <td>2</td>\n",
       "    </tr>\n",
       "    <tr>\n",
       "      <th>PROESTRO</th>\n",
       "      <td>2</td>\n",
       "    </tr>\n",
       "    <tr>\n",
       "      <th rowspan=\"3\" valign=\"top\">METAESTRO</th>\n",
       "      <th>DIESTRO</th>\n",
       "      <td>104</td>\n",
       "    </tr>\n",
       "    <tr>\n",
       "      <th>ESTRO</th>\n",
       "      <td>34</td>\n",
       "    </tr>\n",
       "    <tr>\n",
       "      <th>PROESTRO</th>\n",
       "      <td>12</td>\n",
       "    </tr>\n",
       "    <tr>\n",
       "      <th rowspan=\"3\" valign=\"top\">PROESTRO</th>\n",
       "      <th>DIESTRO</th>\n",
       "      <td>6</td>\n",
       "    </tr>\n",
       "    <tr>\n",
       "      <th>ESTRO</th>\n",
       "      <td>73</td>\n",
       "    </tr>\n",
       "    <tr>\n",
       "      <th>METAESTRO</th>\n",
       "      <td>36</td>\n",
       "    </tr>\n",
       "  </tbody>\n",
       "</table>\n",
       "</div>"
      ],
      "text/plain": [
       "                     filename\n",
       "label     predict            \n",
       "DIESTRO   ESTRO            19\n",
       "          METAESTRO        28\n",
       "          PROESTRO          5\n",
       "ESTRO     METAESTRO         2\n",
       "          PROESTRO          2\n",
       "METAESTRO DIESTRO         104\n",
       "          ESTRO            34\n",
       "          PROESTRO         12\n",
       "PROESTRO  DIESTRO           6\n",
       "          ESTRO            73\n",
       "          METAESTRO        36"
      ]
     },
     "execution_count": 10,
     "metadata": {},
     "output_type": "execute_result"
    }
   ],
   "source": [
    "true_predict = wrongs.groupby([\"label\", \"predict\"]).count()\n",
    "true_predict"
   ]
  },
  {
   "cell_type": "code",
   "execution_count": 15,
   "metadata": {
    "ExecuteTime": {
     "end_time": "2020-12-17T20:04:29.401071Z",
     "start_time": "2020-12-17T20:04:06.521872Z"
    }
   },
   "outputs": [
    {
     "data": {
      "text/plain": [
       "<Figure size 432x288 with 0 Axes>"
      ]
     },
     "metadata": {},
     "output_type": "display_data"
    },
    {
     "data": {
      "text/plain": [
       "<Figure size 432x288 with 0 Axes>"
      ]
     },
     "metadata": {},
     "output_type": "display_data"
    },
    {
     "data": {
      "text/plain": [
       "<Figure size 432x288 with 0 Axes>"
      ]
     },
     "metadata": {},
     "output_type": "display_data"
    },
    {
     "data": {
      "text/plain": [
       "<Figure size 432x288 with 0 Axes>"
      ]
     },
     "metadata": {},
     "output_type": "display_data"
    },
    {
     "data": {
      "text/plain": [
       "<Figure size 432x288 with 0 Axes>"
      ]
     },
     "metadata": {},
     "output_type": "display_data"
    },
    {
     "data": {
      "text/plain": [
       "<Figure size 432x288 with 0 Axes>"
      ]
     },
     "metadata": {},
     "output_type": "display_data"
    },
    {
     "data": {
      "text/plain": [
       "<Figure size 432x288 with 0 Axes>"
      ]
     },
     "metadata": {},
     "output_type": "display_data"
    },
    {
     "data": {
      "text/plain": [
       "<Figure size 432x288 with 0 Axes>"
      ]
     },
     "metadata": {},
     "output_type": "display_data"
    },
    {
     "data": {
      "text/plain": [
       "<Figure size 432x288 with 0 Axes>"
      ]
     },
     "metadata": {},
     "output_type": "display_data"
    },
    {
     "data": {
      "text/plain": [
       "<Figure size 432x288 with 0 Axes>"
      ]
     },
     "metadata": {},
     "output_type": "display_data"
    },
    {
     "data": {
      "text/plain": [
       "<Figure size 432x288 with 0 Axes>"
      ]
     },
     "metadata": {},
     "output_type": "display_data"
    }
   ],
   "source": [
    "for true_label, wrong_label, count in true_predict.reset_index().values:\n",
    "    if count < 16:\n",
    "        sample = wrongs[(wrongs.label==true_label) & (wrongs.predict == wrong_label)].sample(16, replace=True).filename.values\n",
    "    else:\n",
    "        sample = wrongs[(wrongs.label==true_label) & (wrongs.predict == wrong_label)].sample(16).filename.values\n",
    "    plt.figure()\n",
    "    f, axarr = plt.subplots(4, 4, figsize=(40, 40));\n",
    "    f.suptitle(f\"True label: {true_label} X Predict label: {wrong_label}\\nIncorrectly classified images: {count}\\n\\nSample (with replacement if total is less than 16 images):\",\n",
    "               fontsize=50)\n",
    "    for index, (row, column) in enumerate([(row, column) for row in range(4) for column in range(4)]):\n",
    "        axarr[row][column].imshow(Image.open(os.path.join(test_image_path, sample[index])), cmap=\"gray\");\n",
    "    f.savefig(f\"sample_true_{true_label}_predict_{wrong_label}.png\")\n",
    "    plt.close()"
   ]
  },
  {
   "cell_type": "code",
   "execution_count": 16,
   "metadata": {
    "ExecuteTime": {
     "end_time": "2020-12-17T20:05:14.579089Z",
     "start_time": "2020-12-17T20:04:29.426005Z"
    }
   },
   "outputs": [
    {
     "data": {
      "text/plain": [
       "<Figure size 432x288 with 0 Axes>"
      ]
     },
     "metadata": {},
     "output_type": "display_data"
    },
    {
     "data": {
      "text/plain": [
       "<Figure size 432x288 with 0 Axes>"
      ]
     },
     "metadata": {},
     "output_type": "display_data"
    },
    {
     "data": {
      "text/plain": [
       "<Figure size 432x288 with 0 Axes>"
      ]
     },
     "metadata": {},
     "output_type": "display_data"
    },
    {
     "data": {
      "text/plain": [
       "<Figure size 432x288 with 0 Axes>"
      ]
     },
     "metadata": {},
     "output_type": "display_data"
    },
    {
     "data": {
      "text/plain": [
       "<Figure size 432x288 with 0 Axes>"
      ]
     },
     "metadata": {},
     "output_type": "display_data"
    },
    {
     "data": {
      "text/plain": [
       "<Figure size 432x288 with 0 Axes>"
      ]
     },
     "metadata": {},
     "output_type": "display_data"
    },
    {
     "data": {
      "text/plain": [
       "<Figure size 432x288 with 0 Axes>"
      ]
     },
     "metadata": {},
     "output_type": "display_data"
    },
    {
     "data": {
      "text/plain": [
       "<Figure size 432x288 with 0 Axes>"
      ]
     },
     "metadata": {},
     "output_type": "display_data"
    },
    {
     "data": {
      "text/plain": [
       "<Figure size 432x288 with 0 Axes>"
      ]
     },
     "metadata": {},
     "output_type": "display_data"
    },
    {
     "data": {
      "text/plain": [
       "<Figure size 432x288 with 0 Axes>"
      ]
     },
     "metadata": {},
     "output_type": "display_data"
    },
    {
     "data": {
      "text/plain": [
       "<Figure size 432x288 with 0 Axes>"
      ]
     },
     "metadata": {},
     "output_type": "display_data"
    }
   ],
   "source": [
    "for true_label, wrong_label in wrongs.groupby([\"label\", \"predict\"]).count().index:\n",
    "    plt.figure()\n",
    "    plot, axarr = plt.subplots(1, 3, figsize=(120, 40));\n",
    "    axarr[0].imshow(Image.open(f\"sample_{true_label}.png\"), cmap=\"gray\")\n",
    "    axarr[1].imshow(Image.open(f\"sample_true_{true_label}_predict_{wrong_label}.png\"), cmap=\"gray\")\n",
    "    axarr[2].imshow(Image.open(f\"sample_{wrong_label}.png\"), cmap=\"gray\")\n",
    "    plot.savefig(f\"great_sample_true_{true_label}_predict_{wrong_label}.png\")\n",
    "    plt.close()"
   ]
  },
  {
   "cell_type": "code",
   "execution_count": null,
   "metadata": {},
   "outputs": [],
   "source": []
  }
 ],
 "metadata": {
  "kernelspec": {
   "display_name": "Python 3",
   "language": "python",
   "name": "python3"
  },
  "language_info": {
   "codemirror_mode": {
    "name": "ipython",
    "version": 3
   },
   "file_extension": ".py",
   "mimetype": "text/x-python",
   "name": "python",
   "nbconvert_exporter": "python",
   "pygments_lexer": "ipython3",
   "version": "3.7.7"
  },
  "varInspector": {
   "cols": {
    "lenName": 16,
    "lenType": 16,
    "lenVar": 40
   },
   "kernels_config": {
    "python": {
     "delete_cmd_postfix": "",
     "delete_cmd_prefix": "del ",
     "library": "var_list.py",
     "varRefreshCmd": "print(var_dic_list())"
    },
    "r": {
     "delete_cmd_postfix": ") ",
     "delete_cmd_prefix": "rm(",
     "library": "var_list.r",
     "varRefreshCmd": "cat(var_dic_list()) "
    }
   },
   "types_to_exclude": [
    "module",
    "function",
    "builtin_function_or_method",
    "instance",
    "_Feature"
   ],
   "window_display": false
  }
 },
 "nbformat": 4,
 "nbformat_minor": 4
}
