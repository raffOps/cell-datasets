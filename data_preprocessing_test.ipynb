{
 "cells": [
  {
   "cell_type": "code",
   "execution_count": 4,
   "metadata": {
    "ExecuteTime": {
     "end_time": "2020-12-09T17:05:43.735951Z",
     "start_time": "2020-12-09T17:05:35.813385Z"
    }
   },
   "outputs": [],
   "source": [
    "import pandas as pd\n",
    "import numpy as np\n",
    "from skimage import transform, io, exposure\n",
    "from PIL import Image\n",
    "from os.path import join\n",
    "import os\n",
    "from random import shuffle\n",
    "import warnings\n",
    "warnings.filterwarnings(\"ignore\")\n",
    "\n",
    "PATH = os.path.join(\"dataset\", \"images_800\")\n",
    "PATH_TEST = os.path.join(\"dataset\", \"test\")"
   ]
  },
  {
   "cell_type": "code",
   "execution_count": 5,
   "metadata": {
    "ExecuteTime": {
     "end_time": "2020-12-09T17:05:43.751753Z",
     "start_time": "2020-12-09T17:05:43.745769Z"
    }
   },
   "outputs": [],
   "source": [
    "def get_quadrants(image):\n",
    "    return np.array([image[:400, 400:], \n",
    "            image[:400, :400], \n",
    "            image[400:, :400], \n",
    "            image[400:, 400:]])"
   ]
  },
  {
   "cell_type": "code",
   "execution_count": 6,
   "metadata": {
    "ExecuteTime": {
     "end_time": "2020-12-09T17:05:47.278381Z",
     "start_time": "2020-12-09T17:05:47.229896Z"
    }
   },
   "outputs": [
    {
     "data": {
      "text/html": [
       "<div>\n",
       "<style scoped>\n",
       "    .dataframe tbody tr th:only-of-type {\n",
       "        vertical-align: middle;\n",
       "    }\n",
       "\n",
       "    .dataframe tbody tr th {\n",
       "        vertical-align: top;\n",
       "    }\n",
       "\n",
       "    .dataframe thead th {\n",
       "        text-align: right;\n",
       "    }\n",
       "</style>\n",
       "<table border=\"1\" class=\"dataframe\">\n",
       "  <thead>\n",
       "    <tr style=\"text-align: right;\">\n",
       "      <th></th>\n",
       "      <th>filename</th>\n",
       "      <th>label</th>\n",
       "    </tr>\n",
       "  </thead>\n",
       "  <tbody>\n",
       "    <tr>\n",
       "      <th>0</th>\n",
       "      <td>DIESTRO_D001.jpg</td>\n",
       "      <td>DIESTRO</td>\n",
       "    </tr>\n",
       "    <tr>\n",
       "      <th>1</th>\n",
       "      <td>DIESTRO_D002.jpg</td>\n",
       "      <td>DIESTRO</td>\n",
       "    </tr>\n",
       "    <tr>\n",
       "      <th>2</th>\n",
       "      <td>DIESTRO_D003.jpg</td>\n",
       "      <td>DIESTRO</td>\n",
       "    </tr>\n",
       "    <tr>\n",
       "      <th>3</th>\n",
       "      <td>DIESTRO_D004.jpg</td>\n",
       "      <td>DIESTRO</td>\n",
       "    </tr>\n",
       "    <tr>\n",
       "      <th>4</th>\n",
       "      <td>DIESTRO_D005.jpg</td>\n",
       "      <td>DIESTRO</td>\n",
       "    </tr>\n",
       "  </tbody>\n",
       "</table>\n",
       "</div>"
      ],
      "text/plain": [
       "           filename    label\n",
       "0  DIESTRO_D001.jpg  DIESTRO\n",
       "1  DIESTRO_D002.jpg  DIESTRO\n",
       "2  DIESTRO_D003.jpg  DIESTRO\n",
       "3  DIESTRO_D004.jpg  DIESTRO\n",
       "4  DIESTRO_D005.jpg  DIESTRO"
      ]
     },
     "execution_count": 6,
     "metadata": {},
     "output_type": "execute_result"
    }
   ],
   "source": [
    "df = pd.read_csv(\"dataset/name_images_800.csv\", index_col=0)\n",
    "df.head()"
   ]
  },
  {
   "cell_type": "code",
   "execution_count": 9,
   "metadata": {
    "ExecuteTime": {
     "end_time": "2020-12-09T17:08:04.995921Z",
     "start_time": "2020-12-09T17:06:46.539630Z"
    }
   },
   "outputs": [],
   "source": [
    "new_name_images = []\n",
    "for index, features in df.iterrows():\n",
    "    filename = features.filename\n",
    "    label = features.label\n",
    "    image = (exposure.equalize_adapthist(io.imread(os.path.join(PATH, filename), as_gray=True)[:800,:800]) *255).astype(np.uint8)\n",
    "    images = get_quadrants(image)\n",
    "    for index, image in enumerate(images):\n",
    "        name = \"{}_{}.jpg\".format(filename, index) \n",
    "        io.imsave(os.path.join(PATH_TEST, name ), image)\n",
    "        new_name_images.append({\"filename\": name, \"label\": label})"
   ]
  },
  {
   "cell_type": "code",
   "execution_count": 16,
   "metadata": {
    "ExecuteTime": {
     "end_time": "2020-12-09T17:55:53.094731Z",
     "start_time": "2020-12-09T17:55:53.083734Z"
    }
   },
   "outputs": [],
   "source": [
    "pd.DataFrame(new_name_images).to_csv(os.path.join(\"dataset\",\"test.csv\"))"
   ]
  },
  {
   "cell_type": "code",
   "execution_count": null,
   "metadata": {},
   "outputs": [],
   "source": []
  }
 ],
 "metadata": {
  "kernelspec": {
   "display_name": "Python 3",
   "language": "python",
   "name": "python3"
  },
  "language_info": {
   "codemirror_mode": {
    "name": "ipython",
    "version": 3
   },
   "file_extension": ".py",
   "mimetype": "text/x-python",
   "name": "python",
   "nbconvert_exporter": "python",
   "pygments_lexer": "ipython3",
   "version": "3.7.7"
  },
  "varInspector": {
   "cols": {
    "lenName": 16,
    "lenType": 16,
    "lenVar": 40
   },
   "kernels_config": {
    "python": {
     "delete_cmd_postfix": "",
     "delete_cmd_prefix": "del ",
     "library": "var_list.py",
     "varRefreshCmd": "print(var_dic_list())"
    },
    "r": {
     "delete_cmd_postfix": ") ",
     "delete_cmd_prefix": "rm(",
     "library": "var_list.r",
     "varRefreshCmd": "cat(var_dic_list()) "
    }
   },
   "types_to_exclude": [
    "module",
    "function",
    "builtin_function_or_method",
    "instance",
    "_Feature"
   ],
   "window_display": false
  }
 },
 "nbformat": 4,
 "nbformat_minor": 4
}
