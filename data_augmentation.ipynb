{
 "cells": [
  {
   "cell_type": "code",
   "execution_count": 12,
   "metadata": {},
   "outputs": [],
   "source": [
    "import pandas as pd\n",
    "import numpy as np\n",
    "from skimage import transform, io, exposure\n",
    "from PIL import Image\n",
    "from os.path import join\n",
    "import os\n",
    "from random import shuffle\n",
    "import warnings\n",
    "warnings.filterwarnings(\"ignore\")\n",
    "\n",
    "PATH = os.path.join(\"dataset\", \"images\")\n",
    "PATH_AUGMENTED = os.path.join(\"dataset\", \"data_augmented\")"
   ]
  },
  {
   "cell_type": "code",
   "execution_count": 8,
   "metadata": {},
   "outputs": [
    {
     "data": {
      "text/html": [
       "<div>\n",
       "<style scoped>\n",
       "    .dataframe tbody tr th:only-of-type {\n",
       "        vertical-align: middle;\n",
       "    }\n",
       "\n",
       "    .dataframe tbody tr th {\n",
       "        vertical-align: top;\n",
       "    }\n",
       "\n",
       "    .dataframe thead th {\n",
       "        text-align: right;\n",
       "    }\n",
       "</style>\n",
       "<table border=\"1\" class=\"dataframe\">\n",
       "  <thead>\n",
       "    <tr style=\"text-align: right;\">\n",
       "      <th></th>\n",
       "      <th>filename</th>\n",
       "      <th>label</th>\n",
       "    </tr>\n",
       "  </thead>\n",
       "  <tbody>\n",
       "    <tr>\n",
       "      <th>0</th>\n",
       "      <td>DIESTRO_142_4.jpg</td>\n",
       "      <td>DIESTRO</td>\n",
       "    </tr>\n",
       "    <tr>\n",
       "      <th>1</th>\n",
       "      <td>DIESTRO_143_4.jpg</td>\n",
       "      <td>DIESTRO</td>\n",
       "    </tr>\n",
       "    <tr>\n",
       "      <th>2</th>\n",
       "      <td>DIESTRO_144_4.jpg</td>\n",
       "      <td>DIESTRO</td>\n",
       "    </tr>\n",
       "    <tr>\n",
       "      <th>3</th>\n",
       "      <td>DIESTRO_145_4.jpg</td>\n",
       "      <td>DIESTRO</td>\n",
       "    </tr>\n",
       "    <tr>\n",
       "      <th>4</th>\n",
       "      <td>DIESTRO_150_4.jpg</td>\n",
       "      <td>DIESTRO</td>\n",
       "    </tr>\n",
       "  </tbody>\n",
       "</table>\n",
       "</div>"
      ],
      "text/plain": [
       "            filename    label\n",
       "0  DIESTRO_142_4.jpg  DIESTRO\n",
       "1  DIESTRO_143_4.jpg  DIESTRO\n",
       "2  DIESTRO_144_4.jpg  DIESTRO\n",
       "3  DIESTRO_145_4.jpg  DIESTRO\n",
       "4  DIESTRO_150_4.jpg  DIESTRO"
      ]
     },
     "execution_count": 8,
     "metadata": {},
     "output_type": "execute_result"
    }
   ],
   "source": [
    "df = pd.read_csv(\"dataset/name_images.csv\", index_col=0)\n",
    "df.head()"
   ]
  },
  {
   "cell_type": "code",
   "execution_count": 13,
   "metadata": {},
   "outputs": [],
   "source": [
    "new_name_images = []\n",
    "for index, features in df.iterrows():\n",
    "    filename = features[\"filename\"]\n",
    "    name = filename[:-4]\n",
    "    label = features[\"label\"]\n",
    "    image = (exposure.equalize_hist(io.imread(os.path.join(PATH, filename), as_gray=True)[:800,:800]) *255).astype(np.uint8)\n",
    "    for rotation in [0, 90, 180, 270]: \n",
    "        rotated_image = transform.rotate(image, rotation, preserve_range=True).astype(pd.np.uint8)\n",
    "        quadrants = [rotated_image[:400, 400:], \n",
    "                     rotated_image[:400, :400], \n",
    "                     rotated_image[400:, :400], \n",
    "                     rotated_image[400:, 400:]]\n",
    "        for idx, quadrant in enumerate(quadrants):\n",
    "            filename_ =  \"{}_{}_{}.jpg\".format(name, rotation, idx) \n",
    "            io.imsave(os.path.join(PATH_AUGMENTED, filename_), quadrant)\n",
    "            new_name_images.append({\"filename\": filename_, \"label\":label})\n",
    "            \n",
    "            flipped_quadrant = quadrant[:,::-1]\n",
    "            filename_ = \"{}_{}_{}_fliped.jpg\".format(name, rotation, idx)\n",
    "            io.imsave(os.path.join(PATH_AUGMENTED, filename_), flipped_quadrant)\n",
    "            new_name_images.append({\"filename\": filename_, \"label\":label})"
   ]
  },
  {
   "cell_type": "code",
   "execution_count": 14,
   "metadata": {},
   "outputs": [
    {
     "data": {
      "text/html": [
       "<div>\n",
       "<style scoped>\n",
       "    .dataframe tbody tr th:only-of-type {\n",
       "        vertical-align: middle;\n",
       "    }\n",
       "\n",
       "    .dataframe tbody tr th {\n",
       "        vertical-align: top;\n",
       "    }\n",
       "\n",
       "    .dataframe thead th {\n",
       "        text-align: right;\n",
       "    }\n",
       "</style>\n",
       "<table border=\"1\" class=\"dataframe\">\n",
       "  <thead>\n",
       "    <tr style=\"text-align: right;\">\n",
       "      <th></th>\n",
       "      <th>filename</th>\n",
       "      <th>label</th>\n",
       "    </tr>\n",
       "  </thead>\n",
       "  <tbody>\n",
       "    <tr>\n",
       "      <th>0</th>\n",
       "      <td>PROESTRO_535_1_0_1_fliped.jpg</td>\n",
       "      <td>PROESTRO</td>\n",
       "    </tr>\n",
       "    <tr>\n",
       "      <th>1</th>\n",
       "      <td>ESTRO_227_2_90_2_fliped.jpg</td>\n",
       "      <td>ESTRO</td>\n",
       "    </tr>\n",
       "    <tr>\n",
       "      <th>2</th>\n",
       "      <td>METAESTRO_153_3_90_0_fliped.jpg</td>\n",
       "      <td>METAESTRO</td>\n",
       "    </tr>\n",
       "    <tr>\n",
       "      <th>3</th>\n",
       "      <td>DIESTRO_603_4_90_0_fliped.jpg</td>\n",
       "      <td>DIESTRO</td>\n",
       "    </tr>\n",
       "    <tr>\n",
       "      <th>4</th>\n",
       "      <td>ESTRO_547_2_0_1_fliped.jpg</td>\n",
       "      <td>ESTRO</td>\n",
       "    </tr>\n",
       "  </tbody>\n",
       "</table>\n",
       "</div>"
      ],
      "text/plain": [
       "                          filename      label\n",
       "0    PROESTRO_535_1_0_1_fliped.jpg   PROESTRO\n",
       "1      ESTRO_227_2_90_2_fliped.jpg      ESTRO\n",
       "2  METAESTRO_153_3_90_0_fliped.jpg  METAESTRO\n",
       "3    DIESTRO_603_4_90_0_fliped.jpg    DIESTRO\n",
       "4       ESTRO_547_2_0_1_fliped.jpg      ESTRO"
      ]
     },
     "execution_count": 14,
     "metadata": {},
     "output_type": "execute_result"
    }
   ],
   "source": [
    "shuffle(new_name_images)\n",
    "df = pd.DataFrame(new_name_images)\n",
    "df.head()"
   ]
  },
  {
   "cell_type": "code",
   "execution_count": 15,
   "metadata": {},
   "outputs": [],
   "source": [
    "df.to_csv(\"dataset/name_data_augmented.csv\")"
   ]
  },
  {
   "cell_type": "code",
   "execution_count": null,
   "metadata": {},
   "outputs": [],
   "source": []
  }
 ],
 "metadata": {
  "kernelspec": {
   "display_name": "Python 3",
   "language": "python",
   "name": "python3"
  },
  "language_info": {
   "codemirror_mode": {
    "name": "ipython",
    "version": 3
   },
   "file_extension": ".py",
   "mimetype": "text/x-python",
   "name": "python",
   "nbconvert_exporter": "python",
   "pygments_lexer": "ipython3",
   "version": "3.7.7"
  }
 },
 "nbformat": 4,
 "nbformat_minor": 4
}
