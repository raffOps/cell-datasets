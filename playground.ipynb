{
  "nbformat": 4,
  "nbformat_minor": 0,
  "metadata": {
    "kernelspec": {
      "display_name": "Python 3",
      "language": "python",
      "name": "python3"
    },
    "language_info": {
      "codemirror_mode": {
        "name": "ipython",
        "version": 3
      },
      "file_extension": ".py",
      "mimetype": "text/x-python",
      "name": "python",
      "nbconvert_exporter": "python",
      "pygments_lexer": "ipython3",
      "version": "3.7.7"
    },
    "varInspector": {
      "cols": {
        "lenName": 16,
        "lenType": 16,
        "lenVar": 40
      },
      "kernels_config": {
        "python": {
          "delete_cmd_postfix": "",
          "delete_cmd_prefix": "del ",
          "library": "var_list.py",
          "varRefreshCmd": "print(var_dic_list())"
        },
        "r": {
          "delete_cmd_postfix": ") ",
          "delete_cmd_prefix": "rm(",
          "library": "var_list.r",
          "varRefreshCmd": "cat(var_dic_list()) "
        }
      },
      "types_to_exclude": [
        "module",
        "function",
        "builtin_function_or_method",
        "instance",
        "_Feature"
      ],
      "window_display": false
    },
    "colab": {
      "name": "playground.ipynb",
      "provenance": [],
      "include_colab_link": true
    }
  },
  "cells": [
    {
      "cell_type": "markdown",
      "metadata": {
        "id": "view-in-github",
        "colab_type": "text"
      },
      "source": [
        "<a href=\"https://colab.research.google.com/github/rjribeiro/cell-datasets/blob/master/playground.ipynb\" target=\"_parent\"><img src=\"https://colab.research.google.com/assets/colab-badge.svg\" alt=\"Open In Colab\"/></a>"
      ]
    },
    {
      "cell_type": "code",
      "metadata": {
        "ExecuteTime": {
          "end_time": "2020-12-01T20:48:03.399011Z",
          "start_time": "2020-12-01T20:48:03.394025Z"
        },
        "id": "-tvg6wkbNZeo",
        "outputId": "f7cfedb0-0a04-41ad-eda9-7e24ca7c2e5c",
        "colab": {
          "base_uri": "https://localhost:8080/"
        }
      },
      "source": [
        "!git clone https://github.com/rjribeiro/cell-datasets.git"
      ],
      "execution_count": 1,
      "outputs": [
        {
          "output_type": "stream",
          "text": [
            "Cloning into 'cell-datasets'...\n",
            "remote: Enumerating objects: 1642, done.\u001b[K\n",
            "remote: Counting objects: 100% (1642/1642), done.\u001b[K\n",
            "remote: Compressing objects: 100% (1639/1639), done.\u001b[K\n",
            "remote: Total 34056 (delta 17), reused 1627 (delta 3), pack-reused 32414\u001b[K\n",
            "Receiving objects: 100% (34056/34056), 1.16 GiB | 36.35 MiB/s, done.\n",
            "Resolving deltas: 100% (28/28), done.\n",
            "Checking out files: 100% (18050/18050), done.\n"
          ],
          "name": "stdout"
        }
      ]
    },
    {
      "cell_type": "code",
      "metadata": {
        "id": "K3YrbxmgN3Px",
        "outputId": "ff8436a2-9ae2-4165-a5db-220589f06b88",
        "colab": {
          "base_uri": "https://localhost:8080/"
        }
      },
      "source": [
        "%cd cell-datasets/\r\n",
        "!ls"
      ],
      "execution_count": 2,
      "outputs": [
        {
          "output_type": "stream",
          "text": [
            "/content/cell-datasets\n",
            "clustering.ipynb\t       equalizacao_histograma.ipynb  playground.ipynb\n",
            "data_augmentation.ipynb        model.h5\t\t\t     README.md\n",
            "data_preprocessing_test.ipynb  model.ipynb\t\t     test.ipynb\n",
            "dataset\t\t\t       model.json\n",
            "environment.yml\t\t       organizacao_dataset.ipynb\n"
          ],
          "name": "stdout"
        }
      ]
    },
    {
      "cell_type": "code",
      "metadata": {
        "ExecuteTime": {
          "end_time": "2020-12-01T18:45:38.608667Z",
          "start_time": "2020-12-01T18:45:22.070757Z"
        },
        "id": "s6EeR9i3NZex",
        "outputId": "e98662c5-6477-4dc5-ce6d-60c19390363e"
      },
      "source": [
        "import os\n",
        "from tensorflow.keras.utils import Sequence\n",
        "from tensorflow.keras import Sequential, optimizers, preprocessing, initializers\n",
        "from tensorflow.keras.layers import MaxPooling2D, Dense, BatchNormalization, Dropout, Flatten, InputLayer, Conv2D, Activation\n",
        "import tensorflow as tf\n",
        "from tensorflow.python.keras import backend as K\n",
        "from sklearn import preprocessing, model_selection, metrics\n",
        "from math import ceil\n",
        "import pandas as pd\n",
        "import numpy as np\n",
        "from skimage import io\n",
        "import seaborn as sns\n",
        "from matplotlib import pyplot as plt\n",
        "\n",
        "print(\"GPU is\", \"available\" if tf.config.list_physical_devices('GPU') else \"NOT AVAILABLE\")\n",
        "tf.compat.v1.logging.set_verbosity(tf.compat.v1.logging.ERROR)"
      ],
      "execution_count": null,
      "outputs": [
        {
          "output_type": "stream",
          "text": [
            "GPU is available\n"
          ],
          "name": "stdout"
        }
      ]
    },
    {
      "cell_type": "code",
      "metadata": {
        "ExecuteTime": {
          "end_time": "2020-12-01T18:45:38.623628Z",
          "start_time": "2020-12-01T18:45:38.615649Z"
        },
        "id": "yhZIyeC1NZey"
      },
      "source": [
        "class BatchGenerator(Sequence):\n",
        "\n",
        "    def __init__(self, x_set, y_set, batch_size):\n",
        "        self.x, self.y = x_set, y_set\n",
        "        self.batch_size = batch_size\n",
        "\n",
        "    def __len__(self):\n",
        "        return ceil(len(self.x) / self.batch_size)\n",
        "\n",
        "    def __getitem__(self, idx):\n",
        "        batch_x = self.x[idx * self.batch_size:(idx + 1) * self.batch_size]\n",
        "        batch_y = self.y[idx * self.batch_size:(idx + 1) * self.batch_size]\n",
        "\n",
        "        return np.array([preprocessing.StandardScaler().fit_transform(io.imread(os.path.join(PATH, file_name))).reshape(\n",
        "            (400, 400, 1))\n",
        "                         for file_name in batch_x]), np.array(batch_y)\n",
        "\n"
      ],
      "execution_count": null,
      "outputs": []
    },
    {
      "cell_type": "code",
      "metadata": {
        "ExecuteTime": {
          "end_time": "2020-12-01T19:05:46.780775Z",
          "start_time": "2020-12-01T19:05:46.763820Z"
        },
        "id": "96OSg7NhNZez"
      },
      "source": [
        "class Model:\n",
        "    def __init__(self, filters, learning_rate, dropout0, dropout1, activation, batch_size):\n",
        "        self.filters = filters\n",
        "        self.learning_rate = learning_rate\n",
        "        self.dropout0 = dropout0\n",
        "        self.dropout1 = dropout1\n",
        "        self.activation = activation\n",
        "        self.batch_size = batch_size\n",
        "        self.model = self.create_model(filters, learning_rate, dropout0, dropout1, activation)\n",
        "        self.history = None\n",
        "        \n",
        "    def create_model(self, filters, learning_rate, dropout0, dropout1, activation):\n",
        "        model = Sequential()\n",
        "        model.add(Conv2D(filters[0], kernel_size=(5, 5), input_shape=(400, 400, 1),\n",
        "                         kernel_initializer=initializers.GlorotNormal(), padding=\"same\"))\n",
        "        model.add(MaxPooling2D(pool_size=(3, 3)))\n",
        "        model.add(BatchNormalization())\n",
        "        model.add(Activation(activation))\n",
        "\n",
        "        for index, filter_ in enumerate(filters[1:-2]):\n",
        "            model.add(Conv2D(filter_, kernel_size=(3, 3), activation=activation, padding=\"same\"))\n",
        "            model.add(MaxPooling2D(pool_size=(2, 2)))\n",
        "            model.add(BatchNormalization())\n",
        "            model.add(Activation(activation))\n",
        "\n",
        "        model.add(Flatten())\n",
        "        model.add(Dense(filters[-2]))\n",
        "        model.add(BatchNormalization())\n",
        "        model.add(Activation(activation))\n",
        "        model.add(Dropout(dropout0))\n",
        "\n",
        "        model.add(Dense(filters[-1]))\n",
        "        model.add(BatchNormalization())\n",
        "        model.add(Activation(activation))\n",
        "        model.add(Dropout(dropout1))\n",
        "\n",
        "        model.add(Dense(4, activation='softmax'))\n",
        "\n",
        "        opt = optimizers.Adam(learning_rate)\n",
        "        model.compile(loss='categorical_crossentropy', optimizer=opt,\n",
        "                      metrics=['categorical_accuracy'])\n",
        "\n",
        "        return model\n",
        "    \n",
        "    \n",
        "    def fit(self, x_train, y_train, x_test, y_test, batch_size=32, epochs=12):\n",
        "        train_batch_generator = BatchGenerator(x_train, y_train, batch_size=batch_size)\n",
        "        test_batch_generator = BatchGenerator(x_test, y_test, batch_size=batch_size)\n",
        "        self.history = self.model.fit(x=train_batch_generator, verbose=1, epochs=epochs, validation_data=test_batch_generator)\n",
        "\n",
        "    def score(self, x, y, batch_size=32):\n",
        "        batch_generator = BatchGenerator(x, y, batch_size=32)\n",
        "        predict_labels = np.argmax(self.model.predict(batch_generator), axis=1)\n",
        "        accuracy = metrics.accuracy_score(np.argmax(y_test, axis=1), predict_labels)\n",
        "        return accuracy\n",
        "\n",
        "    def get_confustion_matrix(self, x, y, batch_size=32):\n",
        "        batch_generator = BatchGenerator(x, y, batch_size=batch_size)\n",
        "        predict_labels = np.argmax(self.model.predict(batch_generator), axis=1)\n",
        "        data = metrics.confusion_matrix(np.argmax(y_test, axis=1), predict_labels)\n",
        "        confusion_matrix = pd.DataFrame(data=data, columns=['DIESTRO', 'ESTRO', 'METAESTRO', 'PROESTRO'], \n",
        "                                                   index= ['DIESTRO', 'ESTRO', 'METAESTRO', 'PROESTRO'])  \n",
        "        return confusion_matrix\n",
        "    \n",
        "    def plot_train_metrics(self):\n",
        "        sns.set(rc={'figure.figsize':(14,5)})\n",
        "        sns.set_style(\"whitegrid\")\n",
        "        sns.lineplot(data=pd.DataFrame(self.model.history.history), palette=\"tab10\")\n",
        "        plt.xlabel(\"Epochs\");\n",
        "        "
      ],
      "execution_count": null,
      "outputs": []
    },
    {
      "cell_type": "code",
      "metadata": {
        "ExecuteTime": {
          "end_time": "2020-12-01T19:05:47.142449Z",
          "start_time": "2020-12-01T19:05:47.115522Z"
        },
        "id": "qEtxShJ4NZe0"
      },
      "source": [
        "PATH = os.path.join(\"dataset\", \"data_augmented\")\n",
        "df = pd.read_csv(os.path.join(\"dataset\", \"name_data_augmented.csv\"), index_col=0)\n",
        "X = df.filename.values\n",
        "Y = df.label.values"
      ],
      "execution_count": null,
      "outputs": []
    },
    {
      "cell_type": "code",
      "metadata": {
        "ExecuteTime": {
          "end_time": "2020-12-01T19:34:30.192726Z",
          "start_time": "2020-12-01T19:05:48.192457Z"
        },
        "id": "rU7UXdGaNZe0",
        "outputId": "a13a9eb7-9589-41d3-cb01-d81fdfd724ae"
      },
      "source": [
        "sss = model_selection.StratifiedShuffleSplit(n_splits=1, test_size=0.1)\n",
        "batch_size = 32\n",
        "metrics_list = []\n",
        "for train_index, test_index in sss.split(X, Y):\n",
        "    x_train, x_test = X[train_index], X[test_index]\n",
        "    y_train, y_test = pd.get_dummies(Y[train_index]).values, pd.get_dummies(Y[test_index]).values\n",
        "    model = Model(filters=[16, 32, 128, 128, 32, 8], learning_rate=0.0005, \n",
        "                  activation=\"relu\", dropout0=0.5, dropout1=0.3, batch_size=batch_size)\n",
        "    model.fit(x_train, y_train, x_test, y_test, epochs=12)"
      ],
      "execution_count": null,
      "outputs": [
        {
          "output_type": "stream",
          "text": [
            "Train for 449 steps, validate for 50 steps\n",
            "Epoch 1/12\n",
            "449/449 [==============================] - 141s 314ms/step - loss: 0.9933 - categorical_accuracy: 0.6248 - val_loss: 0.7180 - val_categorical_accuracy: 0.8513\n",
            "Epoch 2/12\n",
            "449/449 [==============================] - 142s 317ms/step - loss: 0.6246 - categorical_accuracy: 0.8224 - val_loss: 0.3289 - val_categorical_accuracy: 0.9329\n",
            "Epoch 3/12\n",
            "449/449 [==============================] - 147s 327ms/step - loss: 0.4552 - categorical_accuracy: 0.8647 - val_loss: 0.7866 - val_categorical_accuracy: 0.7208\n",
            "Epoch 4/12\n",
            "449/449 [==============================] - 142s 317ms/step - loss: 0.3669 - categorical_accuracy: 0.8873 - val_loss: 0.1818 - val_categorical_accuracy: 0.9417\n",
            "Epoch 5/12\n",
            "449/449 [==============================] - 143s 319ms/step - loss: 0.3026 - categorical_accuracy: 0.9100 - val_loss: 0.2130 - val_categorical_accuracy: 0.9398\n",
            "Epoch 6/12\n",
            "449/449 [==============================] - 142s 316ms/step - loss: 0.2877 - categorical_accuracy: 0.9149 - val_loss: 0.4684 - val_categorical_accuracy: 0.8526\n",
            "Epoch 7/12\n",
            "449/449 [==============================] - 144s 322ms/step - loss: 0.2575 - categorical_accuracy: 0.9186 - val_loss: 0.1324 - val_categorical_accuracy: 0.9598\n",
            "Epoch 8/12\n",
            "449/449 [==============================] - 143s 319ms/step - loss: 0.2408 - categorical_accuracy: 0.9249 - val_loss: 0.1694 - val_categorical_accuracy: 0.9517\n",
            "Epoch 9/12\n",
            "449/449 [==============================] - 143s 319ms/step - loss: 0.2166 - categorical_accuracy: 0.9347 - val_loss: 0.1247 - val_categorical_accuracy: 0.9592\n",
            "Epoch 10/12\n",
            "449/449 [==============================] - 145s 324ms/step - loss: 0.2146 - categorical_accuracy: 0.9304 - val_loss: 0.1582 - val_categorical_accuracy: 0.9586\n",
            "Epoch 11/12\n",
            "449/449 [==============================] - 145s 322ms/step - loss: 0.2045 - categorical_accuracy: 0.9329 - val_loss: 0.1184 - val_categorical_accuracy: 0.9655\n",
            "Epoch 12/12\n",
            "449/449 [==============================] - 143s 318ms/step - loss: 0.2020 - categorical_accuracy: 0.9338 - val_loss: 0.2834 - val_categorical_accuracy: 0.9247\n"
          ],
          "name": "stdout"
        }
      ]
    },
    {
      "cell_type": "code",
      "metadata": {
        "ExecuteTime": {
          "end_time": "2020-12-01T20:29:52.550630Z",
          "start_time": "2020-12-01T20:29:52.203815Z"
        },
        "id": "0WZr_4wnNZe1",
        "outputId": "b8a8ae4c-6429-4309-c59c-cb55ebf80732"
      },
      "source": [
        "model.plot_train_metrics()"
      ],
      "execution_count": null,
      "outputs": [
        {
          "output_type": "display_data",
          "data": {
            "image/png": "[encoded data removed]",
            "text/plain": [
              "<Figure size 1008x360 with 1 Axes>"
            ]
          },
          "metadata": {
            "tags": []
          }
        }
      ]
    },
    {
      "cell_type": "code",
      "metadata": {
        "ExecuteTime": {
          "end_time": "2020-12-01T19:34:43.987411Z",
          "start_time": "2020-12-01T19:34:30.206346Z"
        },
        "id": "G0A1w0P6NZe1",
        "outputId": "56f53a35-4db4-413f-a1eb-106fab43b1aa"
      },
      "source": [
        "model.get_confustion_matrix(x_test, y_test)"
      ],
      "execution_count": null,
      "outputs": [
        {
          "output_type": "execute_result",
          "data": {
            "text/html": [
              "<div>\n",
              "<style scoped>\n",
              "    .dataframe tbody tr th:only-of-type {\n",
              "        vertical-align: middle;\n",
              "    }\n",
              "\n",
              "    .dataframe tbody tr th {\n",
              "        vertical-align: top;\n",
              "    }\n",
              "\n",
              "    .dataframe thead th {\n",
              "        text-align: right;\n",
              "    }\n",
              "</style>\n",
              "<table border=\"1\" class=\"dataframe\">\n",
              "  <thead>\n",
              "    <tr style=\"text-align: right;\">\n",
              "      <th></th>\n",
              "      <th>DIESTRO</th>\n",
              "      <th>ESTRO</th>\n",
              "      <th>METAESTRO</th>\n",
              "      <th>PROESTRO</th>\n",
              "    </tr>\n",
              "  </thead>\n",
              "  <tbody>\n",
              "    <tr>\n",
              "      <th>DIESTRO</th>\n",
              "      <td>389</td>\n",
              "      <td>0</td>\n",
              "      <td>8</td>\n",
              "      <td>0</td>\n",
              "    </tr>\n",
              "    <tr>\n",
              "      <th>ESTRO</th>\n",
              "      <td>0</td>\n",
              "      <td>400</td>\n",
              "      <td>0</td>\n",
              "      <td>0</td>\n",
              "    </tr>\n",
              "    <tr>\n",
              "      <th>METAESTRO</th>\n",
              "      <td>20</td>\n",
              "      <td>3</td>\n",
              "      <td>374</td>\n",
              "      <td>0</td>\n",
              "    </tr>\n",
              "    <tr>\n",
              "      <th>PROESTRO</th>\n",
              "      <td>1</td>\n",
              "      <td>6</td>\n",
              "      <td>82</td>\n",
              "      <td>311</td>\n",
              "    </tr>\n",
              "  </tbody>\n",
              "</table>\n",
              "</div>"
            ],
            "text/plain": [
              "           DIESTRO  ESTRO  METAESTRO  PROESTRO\n",
              "DIESTRO        389      0          8         0\n",
              "ESTRO            0    400          0         0\n",
              "METAESTRO       20      3        374         0\n",
              "PROESTRO         1      6         82       311"
            ]
          },
          "metadata": {
            "tags": []
          },
          "execution_count": 54
        }
      ]
    },
    {
      "cell_type": "code",
      "metadata": {
        "ExecuteTime": {
          "end_time": "2020-12-01T19:34:57.764110Z",
          "start_time": "2020-12-01T19:34:44.003374Z"
        },
        "id": "kbdmCAOFNZe1",
        "outputId": "043e57f8-1106-480a-bf78-a76f4f8ad667"
      },
      "source": [
        "model.score(x_test, y_test)"
      ],
      "execution_count": null,
      "outputs": [
        {
          "output_type": "execute_result",
          "data": {
            "text/plain": [
              "0.9247176913425345"
            ]
          },
          "metadata": {
            "tags": []
          },
          "execution_count": 55
        }
      ]
    },
    {
      "cell_type": "code",
      "metadata": {
        "id": "JJWcJzdJNZe2"
      },
      "source": [
        ""
      ],
      "execution_count": null,
      "outputs": []
    }
  ]
}