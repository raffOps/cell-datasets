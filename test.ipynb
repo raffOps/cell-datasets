{
 "cells": [
  {
   "cell_type": "code",
   "execution_count": 1,
   "metadata": {
    "ExecuteTime": {
     "end_time": "2020-12-12T20:15:38.683853Z",
     "start_time": "2020-12-12T20:14:23.346896Z"
    }
   },
   "outputs": [
    {
     "name": "stdout",
     "output_type": "stream",
     "text": [
      "GPU is available\n"
     ]
    }
   ],
   "source": [
    "import os\n",
    "from tensorflow.keras.utils import Sequence\n",
    "from tensorflow.keras import Sequential, optimizers, preprocessing, initializers\n",
    "from tensorflow.keras.layers import MaxPooling2D, Dense, BatchNormalization, Dropout, Flatten, InputLayer, Conv2D, Activation\n",
    "import tensorflow as tf\n",
    "from tensorflow.python.keras import backend as K\n",
    "from sklearn import preprocessing, model_selection, metrics\n",
    "from math import ceil\n",
    "import pandas as pd\n",
    "import numpy as np\n",
    "from skimage import io\n",
    "from skopt import gbrt_minimize, gp_minimize\n",
    "from skopt.utils import use_named_args\n",
    "from skopt.space import Real, Categorical, Integer\n",
    "import seaborn as sns\n",
    "from matplotlib import pyplot as plt\n",
    "\n",
    "print(\"GPU is\", \"available\" if tf.config.list_physical_devices('GPU') else \"NOT AVAILABLE\")\n",
    "tf.compat.v1.logging.set_verbosity(tf.compat.v1.logging.ERROR)"
   ]
  },
  {
   "cell_type": "code",
   "execution_count": 2,
   "metadata": {
    "ExecuteTime": {
     "end_time": "2020-12-12T20:15:38.732723Z",
     "start_time": "2020-12-12T20:15:38.723747Z"
    }
   },
   "outputs": [],
   "source": [
    "class BatchGenerator(Sequence):\n",
    "\n",
    "    def __init__(self, x_set, y_set, batch_size):\n",
    "        self.x, self.y = x_set, y_set\n",
    "        self.batch_size = batch_size\n",
    "\n",
    "    def __len__(self):\n",
    "        return ceil(len(self.x) / self.batch_size)\n",
    "\n",
    "    def __getitem__(self, idx):\n",
    "        batch_x = self.x[idx * self.batch_size:(idx + 1) * self.batch_size]\n",
    "        batch_y = self.y[idx * self.batch_size:(idx + 1) * self.batch_size]\n",
    "\n",
    "        return np.array([preprocessing.StandardScaler().fit_transform(io.imread(os.path.join(PATH, file_name))).reshape(\n",
    "            (400, 400, 1))\n",
    "                         for file_name in batch_x]), np.array(batch_y)\n",
    "\n"
   ]
  },
  {
   "cell_type": "code",
   "execution_count": 3,
   "metadata": {
    "ExecuteTime": {
     "end_time": "2020-12-12T20:15:38.956127Z",
     "start_time": "2020-12-12T20:15:38.744690Z"
    }
   },
   "outputs": [],
   "source": [
    "def create_model(filters, learning_rate, dropout0, dropout1, activation):\n",
    "    model = Sequential()\n",
    "    model.add(Conv2D(filters[0], kernel_size=(5, 5), input_shape=(400, 400, 1),\n",
    "                     kernel_initializer=initializers.GlorotNormal(), padding=\"same\"))\n",
    "    model.add(MaxPooling2D(pool_size=(3, 3)))\n",
    "    model.add(BatchNormalization())\n",
    "    model.add(Activation(activation))\n",
    "\n",
    "    for index, filter_ in enumerate(filters[1:-2]):\n",
    "        model.add(Conv2D(filter_, kernel_size=(3, 3), activation=activation, padding=\"same\"))\n",
    "        model.add(MaxPooling2D(pool_size=(2, 2)))\n",
    "        model.add(BatchNormalization())\n",
    "        model.add(Activation(activation))\n",
    "\n",
    "    model.add(Flatten())\n",
    "    model.add(Dense(filters[-2]))\n",
    "    model.add(BatchNormalization())\n",
    "    model.add(Activation(activation))\n",
    "    model.add(Dropout(dropout0))\n",
    "\n",
    "    model.add(Dense(filters[-1]))\n",
    "    model.add(BatchNormalization())\n",
    "    model.add(Activation(activation))\n",
    "    model.add(Dropout(dropout1))\n",
    "\n",
    "    model.add(Dense(4, activation='softmax'))\n",
    "\n",
    "    opt = optimizers.Adam(learning_rate)\n",
    "    model.compile(loss='categorical_crossentropy', optimizer=opt,\n",
    "                  metrics=['categorical_accuracy'])\n",
    "\n",
    "    return model"
   ]
  },
  {
   "cell_type": "code",
   "execution_count": 8,
   "metadata": {
    "ExecuteTime": {
     "end_time": "2020-12-09T17:16:10.054907Z",
     "start_time": "2020-12-09T17:16:09.995808Z"
    }
   },
   "outputs": [],
   "source": [
    "PATH = os.path.join(\"dataset\", \"data_augmented\")\n",
    "df = pd.read_csv(\"dataset/name_data_augmented.csv\", index_col=0)\n",
    "X = df.filename.values\n",
    "Y = df.label.values"
   ]
  },
  {
   "cell_type": "markdown",
   "metadata": {},
   "source": [
    "# TRAIN"
   ]
  },
  {
   "cell_type": "code",
   "execution_count": 9,
   "metadata": {
    "ExecuteTime": {
     "end_time": "2020-12-09T17:47:40.709533Z",
     "start_time": "2020-12-09T17:16:15.078842Z"
    }
   },
   "outputs": [
    {
     "name": "stdout",
     "output_type": "stream",
     "text": [
      "Train for 498 steps\n",
      "Epoch 1/12\n",
      "498/498 [==============================] - 533s 1s/step - loss: 0.9279 - categorical_accuracy: 0.6721\n",
      "Epoch 2/12\n",
      "498/498 [==============================] - 124s 249ms/step - loss: 0.5635 - categorical_accuracy: 0.8189\n",
      "Epoch 3/12\n",
      "498/498 [==============================] - 124s 249ms/step - loss: 0.4196 - categorical_accuracy: 0.8475\n",
      "Epoch 4/12\n",
      "498/498 [==============================] - 120s 242ms/step - loss: 0.3382 - categorical_accuracy: 0.8707\n",
      "Epoch 5/12\n",
      "498/498 [==============================] - 121s 244ms/step - loss: 0.2908 - categorical_accuracy: 0.9068\n",
      "Epoch 6/12\n",
      "498/498 [==============================] - 120s 242ms/step - loss: 0.2596 - categorical_accuracy: 0.9153\n",
      "Epoch 7/12\n",
      "498/498 [==============================] - 120s 242ms/step - loss: 0.2292 - categorical_accuracy: 0.9190\n",
      "Epoch 8/12\n",
      "498/498 [==============================] - 120s 241ms/step - loss: 0.2135 - categorical_accuracy: 0.9263\n",
      "Epoch 9/12\n",
      "498/498 [==============================] - 121s 242ms/step - loss: 0.1949 - categorical_accuracy: 0.9337\n",
      "Epoch 10/12\n",
      "498/498 [==============================] - 121s 242ms/step - loss: 0.1939 - categorical_accuracy: 0.9319\n",
      "Epoch 11/12\n",
      "498/498 [==============================] - 121s 244ms/step - loss: 0.1816 - categorical_accuracy: 0.9359\n",
      "Epoch 12/12\n",
      "498/498 [==============================] - 122s 244ms/step - loss: 0.1688 - categorical_accuracy: 0.9398\n"
     ]
    },
    {
     "data": {
      "text/plain": [
       "<tensorflow.python.keras.callbacks.History at 0x223727021c8>"
      ]
     },
     "execution_count": 9,
     "metadata": {},
     "output_type": "execute_result"
    }
   ],
   "source": [
    "batch_size = 32\n",
    "x_train, y_train = X, pd.get_dummies(Y).values\n",
    "train_batch_generator = BatchGenerator(x_train, y_train, batch_size=batch_size)\n",
    "model = create_model(filters=[16, 32, 128, 128, 32, 8], learning_rate=0.0005, activation=\"relu\", \n",
    "                         dropout0=0.5, dropout1=0.3)\n",
    "model.fit(x=train_batch_generator, verbose=1, epochs=12)"
   ]
  },
  {
   "cell_type": "code",
   "execution_count": 10,
   "metadata": {
    "ExecuteTime": {
     "end_time": "2020-12-09T17:52:12.054986Z",
     "start_time": "2020-12-09T17:52:11.524292Z"
    }
   },
   "outputs": [
    {
     "name": "stdout",
     "output_type": "stream",
     "text": [
      "Saved model to disk\n"
     ]
    }
   ],
   "source": [
    "model_json = model.to_json()\n",
    "with open(\"model.json\", \"w\") as json_file:\n",
    "    json_file.write(model_json)\n",
    "# serialize weights to HDF5\n",
    "model.save_weights(\"model.h5\")\n",
    "print(\"Saved model to disk\")"
   ]
  },
  {
   "cell_type": "markdown",
   "metadata": {},
   "source": [
    "# TEST"
   ]
  },
  {
   "cell_type": "code",
   "execution_count": 7,
   "metadata": {
    "ExecuteTime": {
     "end_time": "2020-12-12T20:17:37.105383Z",
     "start_time": "2020-12-12T20:17:37.101394Z"
    }
   },
   "outputs": [],
   "source": [
    "batch_size = 32"
   ]
  },
  {
   "cell_type": "code",
   "execution_count": 4,
   "metadata": {
    "ExecuteTime": {
     "end_time": "2020-12-12T20:17:00.847271Z",
     "start_time": "2020-12-12T20:16:37.935854Z"
    }
   },
   "outputs": [
    {
     "name": "stdout",
     "output_type": "stream",
     "text": [
      "Loaded model from disk\n"
     ]
    }
   ],
   "source": [
    "json_file = open('model.json', 'r')\n",
    "loaded_model_json = json_file.read()\n",
    "json_file.close()\n",
    "model = tf.keras.models.model_from_json(loaded_model_json)\n",
    "# load weights into new model\n",
    "model.load_weights(\"model.h5\")"
   ]
  },
  {
   "cell_type": "code",
   "execution_count": 5,
   "metadata": {
    "ExecuteTime": {
     "end_time": "2020-12-12T20:17:14.507767Z",
     "start_time": "2020-12-12T20:17:13.747799Z"
    }
   },
   "outputs": [],
   "source": [
    "PATH = os.path.join(\"dataset\", \"test\")\n",
    "df = pd.read_csv(os.path.join(\"dataset\", \"test.csv\"), index_col=0)\n",
    "X = df.filename.values\n",
    "Y = pd.get_dummies(df.label)"
   ]
  },
  {
   "cell_type": "code",
   "execution_count": 8,
   "metadata": {
    "ExecuteTime": {
     "end_time": "2020-12-12T20:18:43.216329Z",
     "start_time": "2020-12-12T20:17:39.892952Z"
    }
   },
   "outputs": [],
   "source": [
    "x_test = X\n",
    "y_test = Y\n",
    "test_batch_generator = BatchGenerator(x_test, y_test, batch_size=batch_size)\n",
    "predicts_labels = np.argmax(model.predict(test_batch_generator), axis=1)"
   ]
  },
  {
   "cell_type": "code",
   "execution_count": 9,
   "metadata": {
    "ExecuteTime": {
     "end_time": "2020-12-12T20:18:43.258214Z",
     "start_time": "2020-12-12T20:18:43.239237Z"
    }
   },
   "outputs": [
    {
     "data": {
      "text/plain": [
       "0.799375"
      ]
     },
     "execution_count": 9,
     "metadata": {},
     "output_type": "execute_result"
    }
   ],
   "source": [
    "metrics.accuracy_score(np.argmax(Y.values, axis=1), predicts_labels)"
   ]
  },
  {
   "cell_type": "code",
   "execution_count": 15,
   "metadata": {
    "ExecuteTime": {
     "end_time": "2020-12-12T20:22:14.880843Z",
     "start_time": "2020-12-12T20:22:14.874859Z"
    }
   },
   "outputs": [
    {
     "data": {
      "text/plain": [
       "[<tensorflow.python.keras.layers.convolutional.Conv2D at 0x187bf54b888>,\n",
       " <tensorflow.python.keras.layers.pooling.MaxPooling2D at 0x187bf5446c8>,\n",
       " <tensorflow.python.keras.layers.normalization.BatchNormalization at 0x187bf4ff788>,\n",
       " <tensorflow.python.keras.layers.core.Activation at 0x187b61e3b08>,\n",
       " <tensorflow.python.keras.layers.convolutional.Conv2D at 0x187bf4f8d08>,\n",
       " <tensorflow.python.keras.layers.pooling.MaxPooling2D at 0x187bf4fb2c8>,\n",
       " <tensorflow.python.keras.layers.normalization.BatchNormalization at 0x187b6bea388>,\n",
       " <tensorflow.python.keras.layers.core.Activation at 0x187bf3b2308>,\n",
       " <tensorflow.python.keras.layers.convolutional.Conv2D at 0x187bf3aa088>,\n",
       " <tensorflow.python.keras.layers.pooling.MaxPooling2D at 0x187bf3b2d48>,\n",
       " <tensorflow.python.keras.layers.normalization.BatchNormalization at 0x187bf443d08>,\n",
       " <tensorflow.python.keras.layers.core.Activation at 0x187bf4300c8>,\n",
       " <tensorflow.python.keras.layers.convolutional.Conv2D at 0x187bf446808>,\n",
       " <tensorflow.python.keras.layers.pooling.MaxPooling2D at 0x187bf4c5d48>,\n",
       " <tensorflow.python.keras.layers.normalization.BatchNormalization at 0x187bf4bac88>,\n",
       " <tensorflow.python.keras.layers.core.Activation at 0x188785bcf88>,\n",
       " <tensorflow.python.keras.layers.core.Flatten at 0x187bf5b9488>,\n",
       " <tensorflow.python.keras.layers.core.Dense at 0x188785c3a48>,\n",
       " <tensorflow.python.keras.layers.normalization.BatchNormalization at 0x188785c37c8>,\n",
       " <tensorflow.python.keras.layers.core.Activation at 0x188785c3808>,\n",
       " <tensorflow.python.keras.layers.core.Dropout at 0x188786275c8>,\n",
       " <tensorflow.python.keras.layers.core.Dense at 0x188786c4748>,\n",
       " <tensorflow.python.keras.layers.normalization.BatchNormalization at 0x18878630108>,\n",
       " <tensorflow.python.keras.layers.core.Activation at 0x188786c4948>,\n",
       " <tensorflow.python.keras.layers.core.Dropout at 0x188786814c8>,\n",
       " <tensorflow.python.keras.layers.core.Dense at 0x18878685888>]"
      ]
     },
     "execution_count": 15,
     "metadata": {},
     "output_type": "execute_result"
    }
   ],
   "source": [
    "model.layers"
   ]
  },
  {
   "cell_type": "code",
   "execution_count": 12,
   "metadata": {
    "ExecuteTime": {
     "end_time": "2020-12-12T20:21:34.421956Z",
     "start_time": "2020-12-12T20:21:33.751173Z"
    }
   },
   "outputs": [
    {
     "ename": "IndexError",
     "evalue": "list index out of range",
     "output_type": "error",
     "traceback": [
      "\u001b[1;31m---------------------------------------------------------------------------\u001b[0m",
      "\u001b[1;31mIndexError\u001b[0m                                Traceback (most recent call last)",
      "\u001b[1;32m<ipython-input-12-8a90c84723a2>\u001b[0m in \u001b[0;36m<module>\u001b[1;34m\u001b[0m\n\u001b[0;32m      4\u001b[0m \u001b[0mfig\u001b[0m\u001b[1;33m,\u001b[0m\u001b[0max\u001b[0m \u001b[1;33m=\u001b[0m \u001b[0mplt\u001b[0m\u001b[1;33m.\u001b[0m\u001b[0msubplots\u001b[0m\u001b[1;33m(\u001b[0m\u001b[0mnrows\u001b[0m\u001b[1;33m=\u001b[0m\u001b[1;36m1\u001b[0m\u001b[1;33m,\u001b[0m\u001b[0mncols\u001b[0m\u001b[1;33m=\u001b[0m\u001b[1;36m5\u001b[0m\u001b[1;33m)\u001b[0m\u001b[1;33m\u001b[0m\u001b[1;33m\u001b[0m\u001b[0m\n\u001b[0;32m      5\u001b[0m \u001b[1;32mfor\u001b[0m \u001b[0mi\u001b[0m\u001b[1;33m,\u001b[0m \u001b[0mlayer\u001b[0m \u001b[1;32min\u001b[0m \u001b[0menumerate\u001b[0m\u001b[1;33m(\u001b[0m\u001b[0mlayers\u001b[0m\u001b[1;33m)\u001b[0m\u001b[1;33m:\u001b[0m\u001b[1;33m\u001b[0m\u001b[1;33m\u001b[0m\u001b[0m\n\u001b[1;32m----> 6\u001b[1;33m     \u001b[0max\u001b[0m\u001b[1;33m[\u001b[0m\u001b[0mi\u001b[0m\u001b[1;33m]\u001b[0m\u001b[1;33m.\u001b[0m\u001b[0mimshow\u001b[0m\u001b[1;33m(\u001b[0m\u001b[0mlayer\u001b[0m\u001b[1;33m.\u001b[0m\u001b[0mget_weights\u001b[0m\u001b[1;33m(\u001b[0m\u001b[1;33m)\u001b[0m\u001b[1;33m[\u001b[0m\u001b[1;36m0\u001b[0m\u001b[1;33m]\u001b[0m\u001b[1;33m[\u001b[0m\u001b[1;33m:\u001b[0m\u001b[1;33m,\u001b[0m\u001b[1;33m:\u001b[0m\u001b[1;33m,\u001b[0m\u001b[1;33m:\u001b[0m\u001b[1;33m,\u001b[0m\u001b[1;36m0\u001b[0m\u001b[1;33m]\u001b[0m\u001b[1;33m[\u001b[0m\u001b[1;33m:\u001b[0m\u001b[1;33m,\u001b[0m\u001b[1;33m:\u001b[0m\u001b[1;33m,\u001b[0m\u001b[1;36m0\u001b[0m\u001b[1;33m]\u001b[0m\u001b[1;33m,\u001b[0m\u001b[0mcmap\u001b[0m\u001b[1;33m=\u001b[0m\u001b[1;34m'gray'\u001b[0m\u001b[1;33m)\u001b[0m\u001b[1;33m\u001b[0m\u001b[1;33m\u001b[0m\u001b[0m\n\u001b[0m\u001b[0;32m      7\u001b[0m     \u001b[0max\u001b[0m\u001b[1;33m[\u001b[0m\u001b[0mi\u001b[0m\u001b[1;33m]\u001b[0m\u001b[1;33m.\u001b[0m\u001b[0mset_title\u001b[0m\u001b[1;33m(\u001b[0m\u001b[1;34m'block'\u001b[0m\u001b[1;33m+\u001b[0m\u001b[0mstr\u001b[0m\u001b[1;33m(\u001b[0m\u001b[0mi\u001b[0m\u001b[1;33m+\u001b[0m\u001b[1;36m1\u001b[0m\u001b[1;33m)\u001b[0m\u001b[1;33m)\u001b[0m\u001b[1;33m\u001b[0m\u001b[1;33m\u001b[0m\u001b[0m\n\u001b[0;32m      8\u001b[0m     \u001b[0max\u001b[0m\u001b[1;33m[\u001b[0m\u001b[0mi\u001b[0m\u001b[1;33m]\u001b[0m\u001b[1;33m.\u001b[0m\u001b[0mset_xticks\u001b[0m\u001b[1;33m(\u001b[0m\u001b[1;33m[\u001b[0m\u001b[1;33m]\u001b[0m\u001b[1;33m)\u001b[0m\u001b[1;33m\u001b[0m\u001b[1;33m\u001b[0m\u001b[0m\n",
      "\u001b[1;31mIndexError\u001b[0m: list index out of range"
     ]
    },
    {
     "data": {
      "image/png": "[encoded data removed]",
      "text/plain": [
       "<Figure size 432x288 with 5 Axes>"
      ]
     },
     "metadata": {
      "needs_background": "light"
     },
     "output_type": "display_data"
    }
   ],
   "source": [
    "layers = model.layers[:-2]\n",
    "#layer_ids = [1,4,7,11,15]\n",
    "#plot the filters\n",
    "fig,ax = plt.subplots(nrows=1,ncols=5)\n",
    "for i, layer in enumerate(layers):\n",
    "    ax[i].imshow(layer.get_weights()[0][:,:,:,0][:,:,0],cmap='gray')\n",
    "    ax[i].set_title('block'+str(i+1))\n",
    "    ax[i].set_xticks([])\n",
    "    ax[i].set_yticks([])"
   ]
  },
  {
   "cell_type": "code",
   "execution_count": 69,
   "metadata": {
    "ExecuteTime": {
     "end_time": "2020-12-09T18:18:48.217896Z",
     "start_time": "2020-12-09T18:18:48.211877Z"
    }
   },
   "outputs": [],
   "source": [
    "predicts_labels_image = [np.bincount(row).argmax() for row in predicts_labels.reshape(400, 4)]\n",
    "true_labels_image = [np.bincount(row).argmax() for row in np.argmax(Y.values, axis=1).reshape(400, 4)]"
   ]
  },
  {
   "cell_type": "code",
   "execution_count": 70,
   "metadata": {
    "ExecuteTime": {
     "end_time": "2020-12-09T18:19:09.815303Z",
     "start_time": "2020-12-09T18:19:09.809292Z"
    }
   },
   "outputs": [
    {
     "data": {
      "text/plain": [
       "0.8225"
      ]
     },
     "execution_count": 70,
     "metadata": {},
     "output_type": "execute_result"
    }
   ],
   "source": [
    "metrics.accuracy_score(true_labels_image, predicts_labels_image)"
   ]
  },
  {
   "cell_type": "code",
   "execution_count": 76,
   "metadata": {
    "ExecuteTime": {
     "end_time": "2020-12-09T18:22:28.423276Z",
     "start_time": "2020-12-09T18:22:28.417257Z"
    }
   },
   "outputs": [],
   "source": [
    "confusion_matrix = metrics.confusion_matrix(true_labels_image, predicts_labels_image, normalize=\"true\")\n",
    "confusion_matrix = pd.DataFrame(data=confusion_matrix, columns=['DIESTRO', 'ESTRO', 'METAESTRO', 'PROESTRO'], \n",
    "                  index=['DIESTRO', 'ESTRO', 'METAESTRO', 'PROESTRO'])"
   ]
  },
  {
   "cell_type": "code",
   "execution_count": 80,
   "metadata": {
    "ExecuteTime": {
     "end_time": "2020-12-09T19:54:48.416315Z",
     "start_time": "2020-12-09T19:54:47.814332Z"
    }
   },
   "outputs": [
    {
     "data": {
      "text/plain": [
       "<matplotlib.axes._subplots.AxesSubplot at 0x2241702c908>"
      ]
     },
     "execution_count": 80,
     "metadata": {},
     "output_type": "execute_result"
    },
    {
     "data": {
      "image/png": "[encoded data removed]",
      "text/plain": [
       "<Figure size 432x288 with 2 Axes>"
      ]
     },
     "metadata": {
      "needs_background": "light"
     },
     "output_type": "display_data"
    }
   ],
   "source": [
    "sns.heatmap(confusion_matrix, annot=True)"
   ]
  },
  {
   "cell_type": "code",
   "execution_count": null,
   "metadata": {},
   "outputs": [],
   "source": []
  }
 ],
 "metadata": {
  "kernelspec": {
   "display_name": "Python 3",
   "language": "python",
   "name": "python3"
  },
  "language_info": {
   "codemirror_mode": {
    "name": "ipython",
    "version": 3
   },
   "file_extension": ".py",
   "mimetype": "text/x-python",
   "name": "python",
   "nbconvert_exporter": "python",
   "pygments_lexer": "ipython3",
   "version": "3.7.7"
  },
  "varInspector": {
   "cols": {
    "lenName": 16,
    "lenType": 16,
    "lenVar": 40
   },
   "kernels_config": {
    "python": {
     "delete_cmd_postfix": "",
     "delete_cmd_prefix": "del ",
     "library": "var_list.py",
     "varRefreshCmd": "print(var_dic_list())"
    },
    "r": {
     "delete_cmd_postfix": ") ",
     "delete_cmd_prefix": "rm(",
     "library": "var_list.r",
     "varRefreshCmd": "cat(var_dic_list()) "
    }
   },
   "types_to_exclude": [
    "module",
    "function",
    "builtin_function_or_method",
    "instance",
    "_Feature"
   ],
   "window_display": false
  }
 },
 "nbformat": 4,
 "nbformat_minor": 4
}
