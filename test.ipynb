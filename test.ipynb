{
 "cells": [
  {
   "cell_type": "code",
   "execution_count": 60,
   "metadata": {
    "ExecuteTime": {
     "end_time": "2020-12-17T17:04:02.066969Z",
     "start_time": "2020-12-17T17:04:02.059989Z"
    }
   },
   "outputs": [
    {
     "name": "stdout",
     "output_type": "stream",
     "text": [
      "GPU is available\n"
     ]
    }
   ],
   "source": [
    "import os\n",
    "from tensorflow.keras.utils import Sequence\n",
    "from tensorflow.keras import Sequential, optimizers, preprocessing, initializers\n",
    "from tensorflow.keras.layers import MaxPooling2D, Dense, BatchNormalization, Dropout, Flatten, InputLayer, Conv2D, Activation\n",
    "import tensorflow as tf\n",
    "from tensorflow.python.keras import backend as K\n",
    "from sklearn import preprocessing, model_selection, metrics\n",
    "from math import ceil\n",
    "import pandas as pd\n",
    "import numpy as np\n",
    "from skimage import io\n",
    "from skopt import gbrt_minimize, gp_minimize\n",
    "from skopt.utils import use_named_args\n",
    "from skopt.space import Real, Categorical, Integer\n",
    "import seaborn as sns\n",
    "from matplotlib import pyplot as plt\n",
    "from shutil import copyfile\n",
    "\n",
    "print(\"GPU is\", \"available\" if tf.config.list_physical_devices('GPU') else \"NOT AVAILABLE\")\n",
    "tf.compat.v1.logging.set_verbosity(tf.compat.v1.logging.ERROR)"
   ]
  },
  {
   "cell_type": "code",
   "execution_count": 2,
   "metadata": {
    "ExecuteTime": {
     "end_time": "2020-12-17T16:27:41.530358Z",
     "start_time": "2020-12-17T16:27:41.517392Z"
    }
   },
   "outputs": [],
   "source": [
    "class BatchGenerator(Sequence):\n",
    "\n",
    "    def __init__(self, x_set, y_set, batch_size):\n",
    "        self.x, self.y = x_set, y_set\n",
    "        self.batch_size = batch_size\n",
    "\n",
    "    def __len__(self):\n",
    "        return ceil(len(self.x) / self.batch_size)\n",
    "\n",
    "    def __getitem__(self, idx):\n",
    "        batch_x = self.x[idx * self.batch_size:(idx + 1) * self.batch_size]\n",
    "        batch_y = self.y[idx * self.batch_size:(idx + 1) * self.batch_size]\n",
    "\n",
    "        return np.array([preprocessing.StandardScaler().fit_transform(io.imread(os.path.join(PATH, file_name))).reshape(\n",
    "            (400, 400, 1))\n",
    "                         for file_name in batch_x]), np.array(batch_y)\n",
    "\n"
   ]
  },
  {
   "cell_type": "code",
   "execution_count": 5,
   "metadata": {
    "ExecuteTime": {
     "end_time": "2020-12-17T16:28:02.087672Z",
     "start_time": "2020-12-17T16:28:02.083648Z"
    }
   },
   "outputs": [],
   "source": [
    "batch_size = 32"
   ]
  },
  {
   "cell_type": "code",
   "execution_count": 6,
   "metadata": {
    "ExecuteTime": {
     "end_time": "2020-12-17T16:28:12.750060Z",
     "start_time": "2020-12-17T16:28:03.535170Z"
    }
   },
   "outputs": [],
   "source": [
    "json_file = open('model.json', 'r')\n",
    "loaded_model_json = json_file.read()\n",
    "json_file.close()\n",
    "model = tf.keras.models.model_from_json(loaded_model_json)\n",
    "# load weights into new model\n",
    "model.load_weights(\"model.h5\")"
   ]
  },
  {
   "cell_type": "code",
   "execution_count": 8,
   "metadata": {
    "ExecuteTime": {
     "end_time": "2020-12-17T16:28:50.419481Z",
     "start_time": "2020-12-17T16:28:50.408489Z"
    }
   },
   "outputs": [],
   "source": [
    "PATH = os.path.join(\"dataset\", \"test\")\n",
    "df = pd.read_csv(os.path.join(\"dataset\", \"test.csv\"), index_col=0)\n",
    "X = df.filename.values\n",
    "Y = pd.get_dummies(df.label)"
   ]
  },
  {
   "cell_type": "code",
   "execution_count": 9,
   "metadata": {
    "ExecuteTime": {
     "end_time": "2020-12-17T16:29:49.930658Z",
     "start_time": "2020-12-17T16:28:51.310418Z"
    }
   },
   "outputs": [],
   "source": [
    "test_batch_generator = BatchGenerator(X, Y, batch_size=batch_size)\n",
    "predicts_labels = np.argmax(model.predict(test_batch_generator), axis=1)"
   ]
  },
  {
   "cell_type": "code",
   "execution_count": 10,
   "metadata": {
    "ExecuteTime": {
     "end_time": "2020-12-17T16:29:57.176585Z",
     "start_time": "2020-12-17T16:29:57.160627Z"
    }
   },
   "outputs": [
    {
     "data": {
      "text/plain": [
       "0.799375"
      ]
     },
     "execution_count": 10,
     "metadata": {},
     "output_type": "execute_result"
    }
   ],
   "source": [
    "metrics.accuracy_score(np.argmax(Y.values, axis=1), predicts_labels)"
   ]
  },
  {
   "cell_type": "code",
   "execution_count": 12,
   "metadata": {
    "ExecuteTime": {
     "end_time": "2020-12-17T16:30:51.844618Z",
     "start_time": "2020-12-17T16:30:51.837638Z"
    }
   },
   "outputs": [],
   "source": [
    "predicts_labels_image = [np.bincount(row).argmax() for row in predicts_labels.reshape(400, 4)]\n",
    "true_labels_image = [np.bincount(row).argmax() for row in np.argmax(Y.values, axis=1).reshape(400, 4)]"
   ]
  },
  {
   "cell_type": "code",
   "execution_count": 13,
   "metadata": {
    "ExecuteTime": {
     "end_time": "2020-12-17T16:30:58.148567Z",
     "start_time": "2020-12-17T16:30:58.143548Z"
    }
   },
   "outputs": [
    {
     "data": {
      "text/plain": [
       "0.8225"
      ]
     },
     "execution_count": 13,
     "metadata": {},
     "output_type": "execute_result"
    }
   ],
   "source": [
    "metrics.accuracy_score(true_labels_image, predicts_labels_image)"
   ]
  },
  {
   "cell_type": "code",
   "execution_count": 41,
   "metadata": {
    "ExecuteTime": {
     "end_time": "2020-12-17T16:42:00.091920Z",
     "start_time": "2020-12-17T16:41:59.903392Z"
    }
   },
   "outputs": [
    {
     "data": {
      "text/plain": [
       "<matplotlib.axes._subplots.AxesSubplot at 0x1da90c30fc8>"
      ]
     },
     "execution_count": 41,
     "metadata": {},
     "output_type": "execute_result"
    },
    {
     "data": {
      "image/png": "[encoded data removed]",
      "text/plain": [
       "<Figure size 432x288 with 2 Axes>"
      ]
     },
     "metadata": {
      "needs_background": "light"
     },
     "output_type": "display_data"
    }
   ],
   "source": [
    "confusion_matrix = metrics.confusion_matrix(true_labels_image, predicts_labels_image, normalize=\"true\")\n",
    "confusion_matrix = pd.DataFrame(data=confusion_matrix, columns=['DIESTRO', 'ESTRO', 'METAESTRO', 'PROESTRO'], \n",
    "                  index=['DIESTRO', 'ESTRO', 'METAESTRO', 'PROESTRO'])\n",
    "\n",
    "sns.heatmap(confusion_matrix, annot=True)"
   ]
  },
  {
   "cell_type": "markdown",
   "metadata": {},
   "source": [
    "# Wrong predictions"
   ]
  },
  {
   "cell_type": "code",
   "execution_count": 29,
   "metadata": {
    "ExecuteTime": {
     "end_time": "2020-12-17T16:37:36.592253Z",
     "start_time": "2020-12-17T16:37:36.572269Z"
    }
   },
   "outputs": [
    {
     "name": "stderr",
     "output_type": "stream",
     "text": [
      "C:\\Users\\Rafa\\Miniconda3\\envs\\tf2\\lib\\site-packages\\ipykernel_launcher.py:4: SettingWithCopyWarning: \n",
      "A value is trying to be set on a copy of a slice from a DataFrame.\n",
      "Try using .loc[row_indexer,col_indexer] = value instead\n",
      "\n",
      "See the caveats in the documentation: https://pandas.pydata.org/pandas-docs/stable/user_guide/indexing.html#returning-a-view-versus-a-copy\n",
      "  after removing the cwd from sys.path.\n"
     ]
    }
   ],
   "source": [
    "labels = df.label.unique()\n",
    "mask = np.argmax(Y.values, axis=1) != predicts_labels\n",
    "wrongs = df[mask]\n",
    "wrongs[\"predict\"] = [labels[predict_label] for predict_label in predicts_labels[mask]]"
   ]
  },
  {
   "cell_type": "code",
   "execution_count": 49,
   "metadata": {
    "ExecuteTime": {
     "end_time": "2020-12-17T16:45:07.535636Z",
     "start_time": "2020-12-17T16:45:07.523703Z"
    }
   },
   "outputs": [
    {
     "data": {
      "text/html": [
       "<div>\n",
       "<style scoped>\n",
       "    .dataframe tbody tr th:only-of-type {\n",
       "        vertical-align: middle;\n",
       "    }\n",
       "\n",
       "    .dataframe tbody tr th {\n",
       "        vertical-align: top;\n",
       "    }\n",
       "\n",
       "    .dataframe thead th {\n",
       "        text-align: right;\n",
       "    }\n",
       "</style>\n",
       "<table border=\"1\" class=\"dataframe\">\n",
       "  <thead>\n",
       "    <tr style=\"text-align: right;\">\n",
       "      <th></th>\n",
       "      <th>filename</th>\n",
       "      <th>label</th>\n",
       "      <th>predict</th>\n",
       "    </tr>\n",
       "  </thead>\n",
       "  <tbody>\n",
       "    <tr>\n",
       "      <th>2</th>\n",
       "      <td>DIESTRO_D001.jpg_2.jpg</td>\n",
       "      <td>DIESTRO</td>\n",
       "      <td>PROESTRO</td>\n",
       "    </tr>\n",
       "    <tr>\n",
       "      <th>9</th>\n",
       "      <td>DIESTRO_D003.jpg_1.jpg</td>\n",
       "      <td>DIESTRO</td>\n",
       "      <td>PROESTRO</td>\n",
       "    </tr>\n",
       "    <tr>\n",
       "      <th>10</th>\n",
       "      <td>DIESTRO_D003.jpg_2.jpg</td>\n",
       "      <td>DIESTRO</td>\n",
       "      <td>PROESTRO</td>\n",
       "    </tr>\n",
       "    <tr>\n",
       "      <th>15</th>\n",
       "      <td>DIESTRO_D004.jpg_3.jpg</td>\n",
       "      <td>DIESTRO</td>\n",
       "      <td>ESTRO</td>\n",
       "    </tr>\n",
       "    <tr>\n",
       "      <th>35</th>\n",
       "      <td>DIESTRO_D009.jpg_3.jpg</td>\n",
       "      <td>DIESTRO</td>\n",
       "      <td>METAESTRO</td>\n",
       "    </tr>\n",
       "    <tr>\n",
       "      <th>...</th>\n",
       "      <td>...</td>\n",
       "      <td>...</td>\n",
       "      <td>...</td>\n",
       "    </tr>\n",
       "    <tr>\n",
       "      <th>1595</th>\n",
       "      <td>PROESTRO_P099.jpg_3.jpg</td>\n",
       "      <td>PROESTRO</td>\n",
       "      <td>ESTRO</td>\n",
       "    </tr>\n",
       "    <tr>\n",
       "      <th>1596</th>\n",
       "      <td>PROESTRO_P100.jpg_0.jpg</td>\n",
       "      <td>PROESTRO</td>\n",
       "      <td>ESTRO</td>\n",
       "    </tr>\n",
       "    <tr>\n",
       "      <th>1597</th>\n",
       "      <td>PROESTRO_P100.jpg_1.jpg</td>\n",
       "      <td>PROESTRO</td>\n",
       "      <td>ESTRO</td>\n",
       "    </tr>\n",
       "    <tr>\n",
       "      <th>1598</th>\n",
       "      <td>PROESTRO_P100.jpg_2.jpg</td>\n",
       "      <td>PROESTRO</td>\n",
       "      <td>ESTRO</td>\n",
       "    </tr>\n",
       "    <tr>\n",
       "      <th>1599</th>\n",
       "      <td>PROESTRO_P100.jpg_3.jpg</td>\n",
       "      <td>PROESTRO</td>\n",
       "      <td>ESTRO</td>\n",
       "    </tr>\n",
       "  </tbody>\n",
       "</table>\n",
       "<p>321 rows × 3 columns</p>\n",
       "</div>"
      ],
      "text/plain": [
       "                     filename     label    predict\n",
       "2      DIESTRO_D001.jpg_2.jpg   DIESTRO   PROESTRO\n",
       "9      DIESTRO_D003.jpg_1.jpg   DIESTRO   PROESTRO\n",
       "10     DIESTRO_D003.jpg_2.jpg   DIESTRO   PROESTRO\n",
       "15     DIESTRO_D004.jpg_3.jpg   DIESTRO      ESTRO\n",
       "35     DIESTRO_D009.jpg_3.jpg   DIESTRO  METAESTRO\n",
       "...                       ...       ...        ...\n",
       "1595  PROESTRO_P099.jpg_3.jpg  PROESTRO      ESTRO\n",
       "1596  PROESTRO_P100.jpg_0.jpg  PROESTRO      ESTRO\n",
       "1597  PROESTRO_P100.jpg_1.jpg  PROESTRO      ESTRO\n",
       "1598  PROESTRO_P100.jpg_2.jpg  PROESTRO      ESTRO\n",
       "1599  PROESTRO_P100.jpg_3.jpg  PROESTRO      ESTRO\n",
       "\n",
       "[321 rows x 3 columns]"
      ]
     },
     "execution_count": 49,
     "metadata": {},
     "output_type": "execute_result"
    }
   ],
   "source": [
    "wrongs"
   ]
  },
  {
   "cell_type": "code",
   "execution_count": 46,
   "metadata": {
    "ExecuteTime": {
     "end_time": "2020-12-17T16:43:34.312442Z",
     "start_time": "2020-12-17T16:43:34.306455Z"
    }
   },
   "outputs": [
    {
     "data": {
      "text/plain": [
       "19"
      ]
     },
     "execution_count": 46,
     "metadata": {},
     "output_type": "execute_result"
    }
   ],
   "source": [
    "wrongs[(wrongs.label==\"DIESTRO\") & (wrongs.predict == \"ESTRO\")].shape[0]"
   ]
  },
  {
   "cell_type": "code",
   "execution_count": 47,
   "metadata": {
    "ExecuteTime": {
     "end_time": "2020-12-17T16:43:51.610370Z",
     "start_time": "2020-12-17T16:43:51.604385Z"
    }
   },
   "outputs": [
    {
     "data": {
      "text/plain": [
       "73"
      ]
     },
     "execution_count": 47,
     "metadata": {},
     "output_type": "execute_result"
    }
   ],
   "source": [
    "wrongs[(wrongs.label==\"PROESTRO\") & (wrongs.predict == \"ESTRO\")].shape[0]"
   ]
  },
  {
   "cell_type": "code",
   "execution_count": 43,
   "metadata": {
    "ExecuteTime": {
     "end_time": "2020-12-17T16:42:45.074918Z",
     "start_time": "2020-12-17T16:42:44.879414Z"
    }
   },
   "outputs": [
    {
     "data": {
      "text/plain": [
       "<matplotlib.axes._subplots.AxesSubplot at 0x1da91075448>"
      ]
     },
     "execution_count": 43,
     "metadata": {},
     "output_type": "execute_result"
    },
    {
     "data": {
      "image/png": "[encoded data removed]",
      "text/plain": [
       "<Figure size 432x288 with 2 Axes>"
      ]
     },
     "metadata": {
      "needs_background": "light"
     },
     "output_type": "display_data"
    }
   ],
   "source": [
    "confusion_matrix = metrics.confusion_matrix(np.argmax(Y.values, axis=1), predicts_labels)\n",
    "confusion_matrix = pd.DataFrame(data=confusion_matrix, columns=['DIESTRO', 'ESTRO', 'METAESTRO', 'PROESTRO'], \n",
    "                  index=['DIESTRO', 'ESTRO', 'METAESTRO', 'PROESTRO'])\n",
    "\n",
    "sns.heatmap(confusion_matrix, annot=True)"
   ]
  },
  {
   "cell_type": "code",
   "execution_count": 58,
   "metadata": {
    "ExecuteTime": {
     "end_time": "2020-12-17T16:53:37.294478Z",
     "start_time": "2020-12-17T16:53:37.285503Z"
    }
   },
   "outputs": [],
   "source": [
    "wrongs.to_csv(os.path.join(\"dataset\", \"wrongs_predictions.csv\"))"
   ]
  },
  {
   "cell_type": "code",
   "execution_count": 59,
   "metadata": {
    "ExecuteTime": {
     "end_time": "2020-12-17T16:55:10.615068Z",
     "start_time": "2020-12-17T16:55:10.605095Z"
    }
   },
   "outputs": [
    {
     "data": {
      "text/plain": [
       "array([['DIESTRO_D001.jpg_2.jpg', 'DIESTRO', 'PROESTRO'],\n",
       "       ['DIESTRO_D003.jpg_1.jpg', 'DIESTRO', 'PROESTRO'],\n",
       "       ['DIESTRO_D003.jpg_2.jpg', 'DIESTRO', 'PROESTRO'],\n",
       "       ['DIESTRO_D004.jpg_3.jpg', 'DIESTRO', 'ESTRO'],\n",
       "       ['DIESTRO_D009.jpg_3.jpg', 'DIESTRO', 'METAESTRO'],\n",
       "       ['DIESTRO_D011.jpg_3.jpg', 'DIESTRO', 'METAESTRO'],\n",
       "       ['DIESTRO_D018.jpg_2.jpg', 'DIESTRO', 'ESTRO'],\n",
       "       ['DIESTRO_D018.jpg_3.jpg', 'DIESTRO', 'ESTRO'],\n",
       "       ['DIESTRO_D019.jpg_3.jpg', 'DIESTRO', 'METAESTRO'],\n",
       "       ['DIESTRO_D020.jpg_2.jpg', 'DIESTRO', 'METAESTRO'],\n",
       "       ['DIESTRO_D026.jpg_0.jpg', 'DIESTRO', 'METAESTRO'],\n",
       "       ['DIESTRO_D030.jpg_2.jpg', 'DIESTRO', 'METAESTRO'],\n",
       "       ['DIESTRO_D033.jpg_0.jpg', 'DIESTRO', 'ESTRO'],\n",
       "       ['DIESTRO_D033.jpg_1.jpg', 'DIESTRO', 'METAESTRO'],\n",
       "       ['DIESTRO_D033.jpg_2.jpg', 'DIESTRO', 'METAESTRO'],\n",
       "       ['DIESTRO_D034.jpg_1.jpg', 'DIESTRO', 'ESTRO'],\n",
       "       ['DIESTRO_D035.jpg_0.jpg', 'DIESTRO', 'METAESTRO'],\n",
       "       ['DIESTRO_D035.jpg_2.jpg', 'DIESTRO', 'ESTRO'],\n",
       "       ['DIESTRO_D035.jpg_3.jpg', 'DIESTRO', 'ESTRO'],\n",
       "       ['DIESTRO_D036.jpg_1.jpg', 'DIESTRO', 'METAESTRO'],\n",
       "       ['DIESTRO_D041.jpg_1.jpg', 'DIESTRO', 'METAESTRO'],\n",
       "       ['DIESTRO_D043.jpg_3.jpg', 'DIESTRO', 'METAESTRO'],\n",
       "       ['DIESTRO_D044.jpg_0.jpg', 'DIESTRO', 'METAESTRO'],\n",
       "       ['DIESTRO_D050.jpg_0.jpg', 'DIESTRO', 'METAESTRO'],\n",
       "       ['DIESTRO_D053.jpg_1.jpg', 'DIESTRO', 'ESTRO'],\n",
       "       ['DIESTRO_D060.jpg_3.jpg', 'DIESTRO', 'ESTRO'],\n",
       "       ['DIESTRO_D061.jpg_0.jpg', 'DIESTRO', 'METAESTRO'],\n",
       "       ['DIESTRO_D061.jpg_1.jpg', 'DIESTRO', 'METAESTRO'],\n",
       "       ['DIESTRO_D061.jpg_3.jpg', 'DIESTRO', 'METAESTRO'],\n",
       "       ['DIESTRO_D064.jpg_0.jpg', 'DIESTRO', 'METAESTRO'],\n",
       "       ['DIESTRO_D064.jpg_1.jpg', 'DIESTRO', 'METAESTRO'],\n",
       "       ['DIESTRO_D070.jpg_2.jpg', 'DIESTRO', 'PROESTRO'],\n",
       "       ['DIESTRO_D071.jpg_1.jpg', 'DIESTRO', 'PROESTRO'],\n",
       "       ['DIESTRO_D071.jpg_2.jpg', 'DIESTRO', 'METAESTRO'],\n",
       "       ['DIESTRO_D073.jpg_3.jpg', 'DIESTRO', 'METAESTRO'],\n",
       "       ['DIESTRO_D074.jpg_2.jpg', 'DIESTRO', 'METAESTRO'],\n",
       "       ['DIESTRO_D074.jpg_3.jpg', 'DIESTRO', 'METAESTRO'],\n",
       "       ['DIESTRO_D075.jpg_1.jpg', 'DIESTRO', 'ESTRO'],\n",
       "       ['DIESTRO_D076.jpg_0.jpg', 'DIESTRO', 'METAESTRO'],\n",
       "       ['DIESTRO_D076.jpg_1.jpg', 'DIESTRO', 'METAESTRO'],\n",
       "       ['DIESTRO_D076.jpg_2.jpg', 'DIESTRO', 'METAESTRO'],\n",
       "       ['DIESTRO_D080.jpg_0.jpg', 'DIESTRO', 'ESTRO'],\n",
       "       ['DIESTRO_D080.jpg_3.jpg', 'DIESTRO', 'ESTRO'],\n",
       "       ['DIESTRO_D082.jpg_1.jpg', 'DIESTRO', 'ESTRO'],\n",
       "       ['DIESTRO_D086.jpg_0.jpg', 'DIESTRO', 'ESTRO'],\n",
       "       ['DIESTRO_D086.jpg_1.jpg', 'DIESTRO', 'ESTRO'],\n",
       "       ['DIESTRO_D087.jpg_0.jpg', 'DIESTRO', 'ESTRO'],\n",
       "       ['DIESTRO_D087.jpg_1.jpg', 'DIESTRO', 'ESTRO'],\n",
       "       ['DIESTRO_D087.jpg_2.jpg', 'DIESTRO', 'ESTRO'],\n",
       "       ['DIESTRO_D087.jpg_3.jpg', 'DIESTRO', 'ESTRO'],\n",
       "       ['DIESTRO_D088.jpg_0.jpg', 'DIESTRO', 'METAESTRO'],\n",
       "       ['DIESTRO_D088.jpg_3.jpg', 'DIESTRO', 'METAESTRO'],\n",
       "       ['ESTRO_E006.jpg_2.jpg', 'ESTRO', 'METAESTRO'],\n",
       "       ['ESTRO_E007.jpg_3.jpg', 'ESTRO', 'METAESTRO'],\n",
       "       ['ESTRO_E064.jpg_1.jpg', 'ESTRO', 'PROESTRO'],\n",
       "       ['ESTRO_E064.jpg_2.jpg', 'ESTRO', 'PROESTRO'],\n",
       "       ['METAESTRO_M002.jpg_1.jpg', 'METAESTRO', 'DIESTRO'],\n",
       "       ['METAESTRO_M003.jpg_3.jpg', 'METAESTRO', 'DIESTRO'],\n",
       "       ['METAESTRO_M004.jpg_1.jpg', 'METAESTRO', 'DIESTRO'],\n",
       "       ['METAESTRO_M004.jpg_2.jpg', 'METAESTRO', 'DIESTRO'],\n",
       "       ['METAESTRO_M004.jpg_3.jpg', 'METAESTRO', 'DIESTRO'],\n",
       "       ['METAESTRO_M005.jpg_1.jpg', 'METAESTRO', 'DIESTRO'],\n",
       "       ['METAESTRO_M006.jpg_2.jpg', 'METAESTRO', 'DIESTRO'],\n",
       "       ['METAESTRO_M006.jpg_3.jpg', 'METAESTRO', 'DIESTRO'],\n",
       "       ['METAESTRO_M007.jpg_2.jpg', 'METAESTRO', 'ESTRO'],\n",
       "       ['METAESTRO_M008.jpg_0.jpg', 'METAESTRO', 'DIESTRO'],\n",
       "       ['METAESTRO_M008.jpg_1.jpg', 'METAESTRO', 'DIESTRO'],\n",
       "       ['METAESTRO_M008.jpg_2.jpg', 'METAESTRO', 'DIESTRO'],\n",
       "       ['METAESTRO_M008.jpg_3.jpg', 'METAESTRO', 'PROESTRO'],\n",
       "       ['METAESTRO_M009.jpg_0.jpg', 'METAESTRO', 'ESTRO'],\n",
       "       ['METAESTRO_M009.jpg_1.jpg', 'METAESTRO', 'DIESTRO'],\n",
       "       ['METAESTRO_M009.jpg_2.jpg', 'METAESTRO', 'ESTRO'],\n",
       "       ['METAESTRO_M009.jpg_3.jpg', 'METAESTRO', 'ESTRO'],\n",
       "       ['METAESTRO_M010.jpg_0.jpg', 'METAESTRO', 'DIESTRO'],\n",
       "       ['METAESTRO_M010.jpg_1.jpg', 'METAESTRO', 'ESTRO'],\n",
       "       ['METAESTRO_M010.jpg_2.jpg', 'METAESTRO', 'DIESTRO'],\n",
       "       ['METAESTRO_M010.jpg_3.jpg', 'METAESTRO', 'DIESTRO'],\n",
       "       ['METAESTRO_M011.jpg_0.jpg', 'METAESTRO', 'ESTRO'],\n",
       "       ['METAESTRO_M011.jpg_1.jpg', 'METAESTRO', 'ESTRO'],\n",
       "       ['METAESTRO_M011.jpg_2.jpg', 'METAESTRO', 'ESTRO'],\n",
       "       ['METAESTRO_M011.jpg_3.jpg', 'METAESTRO', 'ESTRO'],\n",
       "       ['METAESTRO_M012.jpg_0.jpg', 'METAESTRO', 'DIESTRO'],\n",
       "       ['METAESTRO_M012.jpg_1.jpg', 'METAESTRO', 'ESTRO'],\n",
       "       ['METAESTRO_M012.jpg_2.jpg', 'METAESTRO', 'ESTRO'],\n",
       "       ['METAESTRO_M012.jpg_3.jpg', 'METAESTRO', 'DIESTRO'],\n",
       "       ['METAESTRO_M018.jpg_0.jpg', 'METAESTRO', 'DIESTRO'],\n",
       "       ['METAESTRO_M018.jpg_3.jpg', 'METAESTRO', 'DIESTRO'],\n",
       "       ['METAESTRO_M019.jpg_1.jpg', 'METAESTRO', 'DIESTRO'],\n",
       "       ['METAESTRO_M020.jpg_0.jpg', 'METAESTRO', 'DIESTRO'],\n",
       "       ['METAESTRO_M020.jpg_1.jpg', 'METAESTRO', 'DIESTRO'],\n",
       "       ['METAESTRO_M020.jpg_2.jpg', 'METAESTRO', 'DIESTRO'],\n",
       "       ['METAESTRO_M020.jpg_3.jpg', 'METAESTRO', 'DIESTRO'],\n",
       "       ['METAESTRO_M021.jpg_2.jpg', 'METAESTRO', 'PROESTRO'],\n",
       "       ['METAESTRO_M021.jpg_3.jpg', 'METAESTRO', 'DIESTRO'],\n",
       "       ['METAESTRO_M022.jpg_0.jpg', 'METAESTRO', 'DIESTRO'],\n",
       "       ['METAESTRO_M022.jpg_1.jpg', 'METAESTRO', 'PROESTRO'],\n",
       "       ['METAESTRO_M022.jpg_2.jpg', 'METAESTRO', 'DIESTRO'],\n",
       "       ['METAESTRO_M022.jpg_3.jpg', 'METAESTRO', 'DIESTRO'],\n",
       "       ['METAESTRO_M023.jpg_3.jpg', 'METAESTRO', 'DIESTRO'],\n",
       "       ['METAESTRO_M024.jpg_3.jpg', 'METAESTRO', 'ESTRO'],\n",
       "       ['METAESTRO_M027.jpg_3.jpg', 'METAESTRO', 'DIESTRO'],\n",
       "       ['METAESTRO_M028.jpg_3.jpg', 'METAESTRO', 'DIESTRO'],\n",
       "       ['METAESTRO_M029.jpg_0.jpg', 'METAESTRO', 'DIESTRO'],\n",
       "       ['METAESTRO_M029.jpg_1.jpg', 'METAESTRO', 'DIESTRO'],\n",
       "       ['METAESTRO_M029.jpg_2.jpg', 'METAESTRO', 'ESTRO'],\n",
       "       ['METAESTRO_M029.jpg_3.jpg', 'METAESTRO', 'DIESTRO'],\n",
       "       ['METAESTRO_M038.jpg_2.jpg', 'METAESTRO', 'DIESTRO'],\n",
       "       ['METAESTRO_M039.jpg_0.jpg', 'METAESTRO', 'DIESTRO'],\n",
       "       ['METAESTRO_M040.jpg_3.jpg', 'METAESTRO', 'ESTRO'],\n",
       "       ['METAESTRO_M041.jpg_3.jpg', 'METAESTRO', 'ESTRO'],\n",
       "       ['METAESTRO_M046.jpg_3.jpg', 'METAESTRO', 'ESTRO'],\n",
       "       ['METAESTRO_M048.jpg_1.jpg', 'METAESTRO', 'DIESTRO'],\n",
       "       ['METAESTRO_M048.jpg_2.jpg', 'METAESTRO', 'DIESTRO'],\n",
       "       ['METAESTRO_M049.jpg_1.jpg', 'METAESTRO', 'DIESTRO'],\n",
       "       ['METAESTRO_M049.jpg_2.jpg', 'METAESTRO', 'DIESTRO'],\n",
       "       ['METAESTRO_M050.jpg_1.jpg', 'METAESTRO', 'DIESTRO'],\n",
       "       ['METAESTRO_M051.jpg_0.jpg', 'METAESTRO', 'ESTRO'],\n",
       "       ['METAESTRO_M051.jpg_3.jpg', 'METAESTRO', 'ESTRO'],\n",
       "       ['METAESTRO_M057.jpg_1.jpg', 'METAESTRO', 'PROESTRO'],\n",
       "       ['METAESTRO_M057.jpg_2.jpg', 'METAESTRO', 'PROESTRO'],\n",
       "       ['METAESTRO_M058.jpg_2.jpg', 'METAESTRO', 'DIESTRO'],\n",
       "       ['METAESTRO_M058.jpg_3.jpg', 'METAESTRO', 'DIESTRO'],\n",
       "       ['METAESTRO_M059.jpg_2.jpg', 'METAESTRO', 'DIESTRO'],\n",
       "       ['METAESTRO_M059.jpg_3.jpg', 'METAESTRO', 'DIESTRO'],\n",
       "       ['METAESTRO_M060.jpg_0.jpg', 'METAESTRO', 'DIESTRO'],\n",
       "       ['METAESTRO_M060.jpg_1.jpg', 'METAESTRO', 'DIESTRO'],\n",
       "       ['METAESTRO_M060.jpg_2.jpg', 'METAESTRO', 'DIESTRO'],\n",
       "       ['METAESTRO_M060.jpg_3.jpg', 'METAESTRO', 'DIESTRO'],\n",
       "       ['METAESTRO_M062.jpg_1.jpg', 'METAESTRO', 'DIESTRO'],\n",
       "       ['METAESTRO_M062.jpg_3.jpg', 'METAESTRO', 'PROESTRO'],\n",
       "       ['METAESTRO_M063.jpg_1.jpg', 'METAESTRO', 'DIESTRO'],\n",
       "       ['METAESTRO_M067.jpg_3.jpg', 'METAESTRO', 'PROESTRO'],\n",
       "       ['METAESTRO_M069.jpg_2.jpg', 'METAESTRO', 'DIESTRO'],\n",
       "       ['METAESTRO_M073.jpg_0.jpg', 'METAESTRO', 'ESTRO'],\n",
       "       ['METAESTRO_M073.jpg_1.jpg', 'METAESTRO', 'ESTRO'],\n",
       "       ['METAESTRO_M073.jpg_2.jpg', 'METAESTRO', 'ESTRO'],\n",
       "       ['METAESTRO_M073.jpg_3.jpg', 'METAESTRO', 'ESTRO'],\n",
       "       ['METAESTRO_M074.jpg_0.jpg', 'METAESTRO', 'DIESTRO'],\n",
       "       ['METAESTRO_M075.jpg_0.jpg', 'METAESTRO', 'ESTRO'],\n",
       "       ['METAESTRO_M075.jpg_1.jpg', 'METAESTRO', 'DIESTRO'],\n",
       "       ['METAESTRO_M075.jpg_2.jpg', 'METAESTRO', 'DIESTRO'],\n",
       "       ['METAESTRO_M075.jpg_3.jpg', 'METAESTRO', 'ESTRO'],\n",
       "       ['METAESTRO_M076.jpg_0.jpg', 'METAESTRO', 'DIESTRO'],\n",
       "       ['METAESTRO_M076.jpg_1.jpg', 'METAESTRO', 'DIESTRO'],\n",
       "       ['METAESTRO_M076.jpg_2.jpg', 'METAESTRO', 'DIESTRO'],\n",
       "       ['METAESTRO_M076.jpg_3.jpg', 'METAESTRO', 'DIESTRO'],\n",
       "       ['METAESTRO_M077.jpg_0.jpg', 'METAESTRO', 'DIESTRO'],\n",
       "       ['METAESTRO_M077.jpg_1.jpg', 'METAESTRO', 'DIESTRO'],\n",
       "       ['METAESTRO_M077.jpg_2.jpg', 'METAESTRO', 'DIESTRO'],\n",
       "       ['METAESTRO_M077.jpg_3.jpg', 'METAESTRO', 'DIESTRO'],\n",
       "       ['METAESTRO_M078.jpg_0.jpg', 'METAESTRO', 'DIESTRO'],\n",
       "       ['METAESTRO_M078.jpg_1.jpg', 'METAESTRO', 'DIESTRO'],\n",
       "       ['METAESTRO_M078.jpg_2.jpg', 'METAESTRO', 'DIESTRO'],\n",
       "       ['METAESTRO_M078.jpg_3.jpg', 'METAESTRO', 'DIESTRO'],\n",
       "       ['METAESTRO_M079.jpg_0.jpg', 'METAESTRO', 'DIESTRO'],\n",
       "       ['METAESTRO_M079.jpg_1.jpg', 'METAESTRO', 'DIESTRO'],\n",
       "       ['METAESTRO_M079.jpg_2.jpg', 'METAESTRO', 'DIESTRO'],\n",
       "       ['METAESTRO_M079.jpg_3.jpg', 'METAESTRO', 'DIESTRO'],\n",
       "       ['METAESTRO_M083.jpg_0.jpg', 'METAESTRO', 'DIESTRO'],\n",
       "       ['METAESTRO_M083.jpg_1.jpg', 'METAESTRO', 'DIESTRO'],\n",
       "       ['METAESTRO_M083.jpg_2.jpg', 'METAESTRO', 'DIESTRO'],\n",
       "       ['METAESTRO_M083.jpg_3.jpg', 'METAESTRO', 'DIESTRO'],\n",
       "       ['METAESTRO_M084.jpg_0.jpg', 'METAESTRO', 'DIESTRO'],\n",
       "       ['METAESTRO_M084.jpg_2.jpg', 'METAESTRO', 'ESTRO'],\n",
       "       ['METAESTRO_M084.jpg_3.jpg', 'METAESTRO', 'DIESTRO'],\n",
       "       ['METAESTRO_M085.jpg_0.jpg', 'METAESTRO', 'ESTRO'],\n",
       "       ['METAESTRO_M085.jpg_1.jpg', 'METAESTRO', 'DIESTRO'],\n",
       "       ['METAESTRO_M085.jpg_2.jpg', 'METAESTRO', 'DIESTRO'],\n",
       "       ['METAESTRO_M085.jpg_3.jpg', 'METAESTRO', 'DIESTRO'],\n",
       "       ['METAESTRO_M087.jpg_0.jpg', 'METAESTRO', 'DIESTRO'],\n",
       "       ['METAESTRO_M087.jpg_1.jpg', 'METAESTRO', 'DIESTRO'],\n",
       "       ['METAESTRO_M087.jpg_2.jpg', 'METAESTRO', 'DIESTRO'],\n",
       "       ['METAESTRO_M087.jpg_3.jpg', 'METAESTRO', 'DIESTRO'],\n",
       "       ['METAESTRO_M088.jpg_0.jpg', 'METAESTRO', 'DIESTRO'],\n",
       "       ['METAESTRO_M088.jpg_1.jpg', 'METAESTRO', 'PROESTRO'],\n",
       "       ['METAESTRO_M088.jpg_2.jpg', 'METAESTRO', 'DIESTRO'],\n",
       "       ['METAESTRO_M088.jpg_3.jpg', 'METAESTRO', 'DIESTRO'],\n",
       "       ['METAESTRO_M090.jpg_0.jpg', 'METAESTRO', 'DIESTRO'],\n",
       "       ['METAESTRO_M090.jpg_1.jpg', 'METAESTRO', 'DIESTRO'],\n",
       "       ['METAESTRO_M090.jpg_2.jpg', 'METAESTRO', 'DIESTRO'],\n",
       "       ['METAESTRO_M090.jpg_3.jpg', 'METAESTRO', 'DIESTRO'],\n",
       "       ['METAESTRO_M091.jpg_1.jpg', 'METAESTRO', 'ESTRO'],\n",
       "       ['METAESTRO_M092.jpg_0.jpg', 'METAESTRO', 'DIESTRO'],\n",
       "       ['METAESTRO_M092.jpg_1.jpg', 'METAESTRO', 'ESTRO'],\n",
       "       ['METAESTRO_M092.jpg_2.jpg', 'METAESTRO', 'ESTRO'],\n",
       "       ['METAESTRO_M092.jpg_3.jpg', 'METAESTRO', 'ESTRO'],\n",
       "       ['METAESTRO_M094.jpg_0.jpg', 'METAESTRO', 'DIESTRO'],\n",
       "       ['METAESTRO_M094.jpg_1.jpg', 'METAESTRO', 'DIESTRO'],\n",
       "       ['METAESTRO_M094.jpg_2.jpg', 'METAESTRO', 'DIESTRO'],\n",
       "       ['METAESTRO_M094.jpg_3.jpg', 'METAESTRO', 'DIESTRO'],\n",
       "       ['METAESTRO_M095.jpg_0.jpg', 'METAESTRO', 'PROESTRO'],\n",
       "       ['METAESTRO_M095.jpg_1.jpg', 'METAESTRO', 'PROESTRO'],\n",
       "       ['METAESTRO_M095.jpg_2.jpg', 'METAESTRO', 'PROESTRO'],\n",
       "       ['METAESTRO_M095.jpg_3.jpg', 'METAESTRO', 'PROESTRO'],\n",
       "       ['METAESTRO_M097.jpg_0.jpg', 'METAESTRO', 'ESTRO'],\n",
       "       ['METAESTRO_M097.jpg_1.jpg', 'METAESTRO', 'ESTRO'],\n",
       "       ['METAESTRO_M097.jpg_2.jpg', 'METAESTRO', 'ESTRO'],\n",
       "       ['METAESTRO_M097.jpg_3.jpg', 'METAESTRO', 'ESTRO'],\n",
       "       ['METAESTRO_M098.jpg_0.jpg', 'METAESTRO', 'DIESTRO'],\n",
       "       ['METAESTRO_M098.jpg_1.jpg', 'METAESTRO', 'DIESTRO'],\n",
       "       ['METAESTRO_M098.jpg_2.jpg', 'METAESTRO', 'DIESTRO'],\n",
       "       ['METAESTRO_M098.jpg_3.jpg', 'METAESTRO', 'DIESTRO'],\n",
       "       ['METAESTRO_M100.jpg_0.jpg', 'METAESTRO', 'DIESTRO'],\n",
       "       ['METAESTRO_M100.jpg_1.jpg', 'METAESTRO', 'DIESTRO'],\n",
       "       ['METAESTRO_M100.jpg_2.jpg', 'METAESTRO', 'DIESTRO'],\n",
       "       ['METAESTRO_M100.jpg_3.jpg', 'METAESTRO', 'DIESTRO'],\n",
       "       ['PROESTRO_P001.jpg_1.jpg', 'PROESTRO', 'METAESTRO'],\n",
       "       ['PROESTRO_P002.jpg_0.jpg', 'PROESTRO', 'ESTRO'],\n",
       "       ['PROESTRO_P002.jpg_2.jpg', 'PROESTRO', 'ESTRO'],\n",
       "       ['PROESTRO_P003.jpg_0.jpg', 'PROESTRO', 'ESTRO'],\n",
       "       ['PROESTRO_P003.jpg_1.jpg', 'PROESTRO', 'METAESTRO'],\n",
       "       ['PROESTRO_P003.jpg_2.jpg', 'PROESTRO', 'METAESTRO'],\n",
       "       ['PROESTRO_P003.jpg_3.jpg', 'PROESTRO', 'METAESTRO'],\n",
       "       ['PROESTRO_P014.jpg_0.jpg', 'PROESTRO', 'ESTRO'],\n",
       "       ['PROESTRO_P014.jpg_1.jpg', 'PROESTRO', 'ESTRO'],\n",
       "       ['PROESTRO_P014.jpg_2.jpg', 'PROESTRO', 'ESTRO'],\n",
       "       ['PROESTRO_P014.jpg_3.jpg', 'PROESTRO', 'ESTRO'],\n",
       "       ['PROESTRO_P015.jpg_0.jpg', 'PROESTRO', 'DIESTRO'],\n",
       "       ['PROESTRO_P015.jpg_1.jpg', 'PROESTRO', 'DIESTRO'],\n",
       "       ['PROESTRO_P015.jpg_2.jpg', 'PROESTRO', 'DIESTRO'],\n",
       "       ['PROESTRO_P015.jpg_3.jpg', 'PROESTRO', 'ESTRO'],\n",
       "       ['PROESTRO_P020.jpg_0.jpg', 'PROESTRO', 'METAESTRO'],\n",
       "       ['PROESTRO_P020.jpg_1.jpg', 'PROESTRO', 'METAESTRO'],\n",
       "       ['PROESTRO_P020.jpg_2.jpg', 'PROESTRO', 'METAESTRO'],\n",
       "       ['PROESTRO_P020.jpg_3.jpg', 'PROESTRO', 'METAESTRO'],\n",
       "       ['PROESTRO_P021.jpg_0.jpg', 'PROESTRO', 'METAESTRO'],\n",
       "       ['PROESTRO_P021.jpg_1.jpg', 'PROESTRO', 'METAESTRO'],\n",
       "       ['PROESTRO_P021.jpg_2.jpg', 'PROESTRO', 'METAESTRO'],\n",
       "       ['PROESTRO_P021.jpg_3.jpg', 'PROESTRO', 'METAESTRO'],\n",
       "       ['PROESTRO_P022.jpg_0.jpg', 'PROESTRO', 'ESTRO'],\n",
       "       ['PROESTRO_P022.jpg_1.jpg', 'PROESTRO', 'METAESTRO'],\n",
       "       ['PROESTRO_P022.jpg_2.jpg', 'PROESTRO', 'METAESTRO'],\n",
       "       ['PROESTRO_P022.jpg_3.jpg', 'PROESTRO', 'METAESTRO'],\n",
       "       ['PROESTRO_P023.jpg_0.jpg', 'PROESTRO', 'METAESTRO'],\n",
       "       ['PROESTRO_P023.jpg_2.jpg', 'PROESTRO', 'METAESTRO'],\n",
       "       ['PROESTRO_P023.jpg_3.jpg', 'PROESTRO', 'METAESTRO'],\n",
       "       ['PROESTRO_P024.jpg_0.jpg', 'PROESTRO', 'METAESTRO'],\n",
       "       ['PROESTRO_P024.jpg_1.jpg', 'PROESTRO', 'METAESTRO'],\n",
       "       ['PROESTRO_P024.jpg_2.jpg', 'PROESTRO', 'METAESTRO'],\n",
       "       ['PROESTRO_P024.jpg_3.jpg', 'PROESTRO', 'METAESTRO'],\n",
       "       ['PROESTRO_P025.jpg_0.jpg', 'PROESTRO', 'ESTRO'],\n",
       "       ['PROESTRO_P025.jpg_1.jpg', 'PROESTRO', 'ESTRO'],\n",
       "       ['PROESTRO_P025.jpg_2.jpg', 'PROESTRO', 'ESTRO'],\n",
       "       ['PROESTRO_P025.jpg_3.jpg', 'PROESTRO', 'ESTRO'],\n",
       "       ['PROESTRO_P026.jpg_0.jpg', 'PROESTRO', 'ESTRO'],\n",
       "       ['PROESTRO_P026.jpg_2.jpg', 'PROESTRO', 'ESTRO'],\n",
       "       ['PROESTRO_P026.jpg_3.jpg', 'PROESTRO', 'ESTRO'],\n",
       "       ['PROESTRO_P027.jpg_0.jpg', 'PROESTRO', 'ESTRO'],\n",
       "       ['PROESTRO_P027.jpg_1.jpg', 'PROESTRO', 'ESTRO'],\n",
       "       ['PROESTRO_P027.jpg_2.jpg', 'PROESTRO', 'ESTRO'],\n",
       "       ['PROESTRO_P027.jpg_3.jpg', 'PROESTRO', 'ESTRO'],\n",
       "       ['PROESTRO_P029.jpg_3.jpg', 'PROESTRO', 'ESTRO'],\n",
       "       ['PROESTRO_P030.jpg_0.jpg', 'PROESTRO', 'ESTRO'],\n",
       "       ['PROESTRO_P030.jpg_1.jpg', 'PROESTRO', 'ESTRO'],\n",
       "       ['PROESTRO_P030.jpg_3.jpg', 'PROESTRO', 'ESTRO'],\n",
       "       ['PROESTRO_P031.jpg_1.jpg', 'PROESTRO', 'ESTRO'],\n",
       "       ['PROESTRO_P031.jpg_2.jpg', 'PROESTRO', 'ESTRO'],\n",
       "       ['PROESTRO_P031.jpg_3.jpg', 'PROESTRO', 'ESTRO'],\n",
       "       ['PROESTRO_P032.jpg_0.jpg', 'PROESTRO', 'ESTRO'],\n",
       "       ['PROESTRO_P032.jpg_1.jpg', 'PROESTRO', 'ESTRO'],\n",
       "       ['PROESTRO_P032.jpg_2.jpg', 'PROESTRO', 'ESTRO'],\n",
       "       ['PROESTRO_P032.jpg_3.jpg', 'PROESTRO', 'ESTRO'],\n",
       "       ['PROESTRO_P033.jpg_0.jpg', 'PROESTRO', 'ESTRO'],\n",
       "       ['PROESTRO_P033.jpg_1.jpg', 'PROESTRO', 'ESTRO'],\n",
       "       ['PROESTRO_P033.jpg_2.jpg', 'PROESTRO', 'ESTRO'],\n",
       "       ['PROESTRO_P033.jpg_3.jpg', 'PROESTRO', 'ESTRO'],\n",
       "       ['PROESTRO_P034.jpg_0.jpg', 'PROESTRO', 'ESTRO'],\n",
       "       ['PROESTRO_P034.jpg_1.jpg', 'PROESTRO', 'ESTRO'],\n",
       "       ['PROESTRO_P034.jpg_2.jpg', 'PROESTRO', 'ESTRO'],\n",
       "       ['PROESTRO_P034.jpg_3.jpg', 'PROESTRO', 'ESTRO'],\n",
       "       ['PROESTRO_P035.jpg_0.jpg', 'PROESTRO', 'ESTRO'],\n",
       "       ['PROESTRO_P035.jpg_1.jpg', 'PROESTRO', 'ESTRO'],\n",
       "       ['PROESTRO_P035.jpg_2.jpg', 'PROESTRO', 'ESTRO'],\n",
       "       ['PROESTRO_P035.jpg_3.jpg', 'PROESTRO', 'ESTRO'],\n",
       "       ['PROESTRO_P045.jpg_0.jpg', 'PROESTRO', 'METAESTRO'],\n",
       "       ['PROESTRO_P045.jpg_3.jpg', 'PROESTRO', 'METAESTRO'],\n",
       "       ['PROESTRO_P054.jpg_0.jpg', 'PROESTRO', 'ESTRO'],\n",
       "       ['PROESTRO_P056.jpg_0.jpg', 'PROESTRO', 'METAESTRO'],\n",
       "       ['PROESTRO_P056.jpg_2.jpg', 'PROESTRO', 'METAESTRO'],\n",
       "       ['PROESTRO_P057.jpg_0.jpg', 'PROESTRO', 'METAESTRO'],\n",
       "       ['PROESTRO_P057.jpg_1.jpg', 'PROESTRO', 'METAESTRO'],\n",
       "       ['PROESTRO_P057.jpg_3.jpg', 'PROESTRO', 'METAESTRO'],\n",
       "       ['PROESTRO_P059.jpg_0.jpg', 'PROESTRO', 'METAESTRO'],\n",
       "       ['PROESTRO_P061.jpg_3.jpg', 'PROESTRO', 'METAESTRO'],\n",
       "       ['PROESTRO_P062.jpg_2.jpg', 'PROESTRO', 'METAESTRO'],\n",
       "       ['PROESTRO_P063.jpg_0.jpg', 'PROESTRO', 'METAESTRO'],\n",
       "       ['PROESTRO_P063.jpg_2.jpg', 'PROESTRO', 'METAESTRO'],\n",
       "       ['PROESTRO_P066.jpg_3.jpg', 'PROESTRO', 'ESTRO'],\n",
       "       ['PROESTRO_P088.jpg_0.jpg', 'PROESTRO', 'ESTRO'],\n",
       "       ['PROESTRO_P088.jpg_1.jpg', 'PROESTRO', 'ESTRO'],\n",
       "       ['PROESTRO_P088.jpg_2.jpg', 'PROESTRO', 'ESTRO'],\n",
       "       ['PROESTRO_P088.jpg_3.jpg', 'PROESTRO', 'ESTRO'],\n",
       "       ['PROESTRO_P089.jpg_1.jpg', 'PROESTRO', 'METAESTRO'],\n",
       "       ['PROESTRO_P089.jpg_3.jpg', 'PROESTRO', 'METAESTRO'],\n",
       "       ['PROESTRO_P091.jpg_0.jpg', 'PROESTRO', 'DIESTRO'],\n",
       "       ['PROESTRO_P091.jpg_1.jpg', 'PROESTRO', 'ESTRO'],\n",
       "       ['PROESTRO_P091.jpg_2.jpg', 'PROESTRO', 'ESTRO'],\n",
       "       ['PROESTRO_P091.jpg_3.jpg', 'PROESTRO', 'ESTRO'],\n",
       "       ['PROESTRO_P092.jpg_0.jpg', 'PROESTRO', 'ESTRO'],\n",
       "       ['PROESTRO_P092.jpg_1.jpg', 'PROESTRO', 'ESTRO'],\n",
       "       ['PROESTRO_P092.jpg_2.jpg', 'PROESTRO', 'DIESTRO'],\n",
       "       ['PROESTRO_P092.jpg_3.jpg', 'PROESTRO', 'DIESTRO'],\n",
       "       ['PROESTRO_P095.jpg_0.jpg', 'PROESTRO', 'ESTRO'],\n",
       "       ['PROESTRO_P095.jpg_1.jpg', 'PROESTRO', 'ESTRO'],\n",
       "       ['PROESTRO_P095.jpg_3.jpg', 'PROESTRO', 'ESTRO'],\n",
       "       ['PROESTRO_P097.jpg_0.jpg', 'PROESTRO', 'ESTRO'],\n",
       "       ['PROESTRO_P097.jpg_1.jpg', 'PROESTRO', 'ESTRO'],\n",
       "       ['PROESTRO_P097.jpg_2.jpg', 'PROESTRO', 'ESTRO'],\n",
       "       ['PROESTRO_P097.jpg_3.jpg', 'PROESTRO', 'ESTRO'],\n",
       "       ['PROESTRO_P098.jpg_0.jpg', 'PROESTRO', 'ESTRO'],\n",
       "       ['PROESTRO_P098.jpg_1.jpg', 'PROESTRO', 'ESTRO'],\n",
       "       ['PROESTRO_P098.jpg_2.jpg', 'PROESTRO', 'ESTRO'],\n",
       "       ['PROESTRO_P098.jpg_3.jpg', 'PROESTRO', 'ESTRO'],\n",
       "       ['PROESTRO_P099.jpg_0.jpg', 'PROESTRO', 'ESTRO'],\n",
       "       ['PROESTRO_P099.jpg_1.jpg', 'PROESTRO', 'ESTRO'],\n",
       "       ['PROESTRO_P099.jpg_2.jpg', 'PROESTRO', 'ESTRO'],\n",
       "       ['PROESTRO_P099.jpg_3.jpg', 'PROESTRO', 'ESTRO'],\n",
       "       ['PROESTRO_P100.jpg_0.jpg', 'PROESTRO', 'ESTRO'],\n",
       "       ['PROESTRO_P100.jpg_1.jpg', 'PROESTRO', 'ESTRO'],\n",
       "       ['PROESTRO_P100.jpg_2.jpg', 'PROESTRO', 'ESTRO'],\n",
       "       ['PROESTRO_P100.jpg_3.jpg', 'PROESTRO', 'ESTRO']], dtype=object)"
      ]
     },
     "execution_count": 59,
     "metadata": {},
     "output_type": "execute_result"
    }
   ],
   "source": [
    "for filename, true_label, wrong_label in wrongs.to_numpy():\n",
    "    path = os.path.join(\"dataset\", \"wrongs_predictions\", true_label, wrong_label)\n",
    "    os.mkdir(path)\n",
    "    os.m"
   ]
  },
  {
   "cell_type": "code",
   "execution_count": 74,
   "metadata": {
    "ExecuteTime": {
     "end_time": "2020-12-17T17:19:52.153998Z",
     "start_time": "2020-12-17T17:19:51.966869Z"
    }
   },
   "outputs": [],
   "source": [
    "root = os.getcwd()\n",
    "for label in wrongs.label.unique():\n",
    "    for wrong_label in wrongs.predict.unique():\n",
    "        if label != wrong_label:\n",
    "            path = os.path.join(root, \"dataset\", \"wrongs_predictions\", \"true_\"+label, \"wrong_\"+wrong_label)\n",
    "            os.makedirs(path)\n",
    "            for filename in wrongs[(wrongs.label==label) & (wrongs.predict == wrong_label)].filename:\n",
    "                copyfile(os.path.join(root, \"dataset\", \"test\", filename), os.path.join(path, filename))"
   ]
  },
  {
   "cell_type": "code",
   "execution_count": 69,
   "metadata": {
    "ExecuteTime": {
     "end_time": "2020-12-17T17:12:30.738587Z",
     "start_time": "2020-12-17T17:12:30.733574Z"
    }
   },
   "outputs": [
    {
     "data": {
      "text/plain": [
       "'M:\\\\cell-datasets'"
      ]
     },
     "execution_count": 69,
     "metadata": {},
     "output_type": "execute_result"
    }
   ],
   "source": [
    "os.getcwd()"
   ]
  },
  {
   "cell_type": "code",
   "execution_count": 75,
   "metadata": {
    "ExecuteTime": {
     "end_time": "2020-12-17T17:27:32.301901Z",
     "start_time": "2020-12-17T17:27:32.295917Z"
    }
   },
   "outputs": [
    {
     "data": {
      "text/plain": [
       "array(['DIESTRO', 'ESTRO', 'METAESTRO', 'PROESTRO'], dtype=object)"
      ]
     },
     "execution_count": 75,
     "metadata": {},
     "output_type": "execute_result"
    }
   ],
   "source": [
    "wrongs.label.unique()"
   ]
  },
  {
   "cell_type": "code",
   "execution_count": null,
   "metadata": {},
   "outputs": [],
   "source": []
  }
 ],
 "metadata": {
  "kernelspec": {
   "display_name": "Python 3",
   "language": "python",
   "name": "python3"
  },
  "language_info": {
   "codemirror_mode": {
    "name": "ipython",
    "version": 3
   },
   "file_extension": ".py",
   "mimetype": "text/x-python",
   "name": "python",
   "nbconvert_exporter": "python",
   "pygments_lexer": "ipython3",
   "version": "3.7.7"
  },
  "varInspector": {
   "cols": {
    "lenName": 16,
    "lenType": 16,
    "lenVar": 40
   },
   "kernels_config": {
    "python": {
     "delete_cmd_postfix": "",
     "delete_cmd_prefix": "del ",
     "library": "var_list.py",
     "varRefreshCmd": "print(var_dic_list())"
    },
    "r": {
     "delete_cmd_postfix": ") ",
     "delete_cmd_prefix": "rm(",
     "library": "var_list.r",
     "varRefreshCmd": "cat(var_dic_list()) "
    }
   },
   "types_to_exclude": [
    "module",
    "function",
    "builtin_function_or_method",
    "instance",
    "_Feature"
   ],
   "window_display": false
  }
 },
 "nbformat": 4,
 "nbformat_minor": 4
}
